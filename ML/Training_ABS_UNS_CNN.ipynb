{
 "cells": [
  {
   "cell_type": "markdown",
   "id": "3e6e43f9",
   "metadata": {},
   "source": [
    "## Preparation"
   ]
  },
  {
   "cell_type": "markdown",
   "id": "3e9b5de7",
   "metadata": {},
   "source": [
    "#### Problem left: mismatch in dimension."
   ]
  },
  {
   "cell_type": "code",
   "execution_count": 1,
   "id": "4ebe9934",
   "metadata": {},
   "outputs": [],
   "source": [
    "import torch\n",
    "from torch.utils.data import TensorDataset, DataLoader\n",
    "import numpy as np"
   ]
  },
  {
   "cell_type": "code",
   "execution_count": null,
   "id": "fad5224e",
   "metadata": {},
   "outputs": [],
   "source": [
    "# device check(CFDLab)\n",
    "device=torch.device('cuda:1') #先調1再調0\n",
    "print(torch.cuda.is_available())\n",
    "x=torch.randn(100).to(device) # Gives warning"
   ]
  },
  {
   "cell_type": "code",
   "execution_count": null,
   "id": "2a358a80",
   "metadata": {},
   "outputs": [],
   "source": [
    "device=torch.device('cuda:0') # Fix warning\n",
    "x=torch.randn(100).to(device) # No warning"
   ]
  },
  {
   "cell_type": "code",
   "execution_count": 2,
   "id": "34dbfa78",
   "metadata": {},
   "outputs": [
    {
     "name": "stdout",
     "output_type": "stream",
     "text": [
      "True\n"
     ]
    }
   ],
   "source": [
    "# device check(my pc)\n",
    "device=torch.device('cuda')\n",
    "print(torch.cuda.is_available())\n",
    "x=torch.randn(100).to(device) # No warning"
   ]
  },
  {
   "cell_type": "markdown",
   "id": "c262401a",
   "metadata": {},
   "source": [
    "## Parameters"
   ]
  },
  {
   "cell_type": "code",
   "execution_count": 12,
   "id": "88b237a3",
   "metadata": {},
   "outputs": [],
   "source": [
    "batch=100 #batchsize\n",
    "opt=1 # optimizer\n",
    "tol=1e-2 # tolerance\n",
    "ch=[1, 3, 3, 3, 3, 1] #model layout\n",
    "pad=[0, 0, 0, 0, 0]\n",
    "PATH= \"ABS_UNS_CNN_TEST\" # model name, saved as.."
   ]
  },
  {
   "cell_type": "markdown",
   "id": "bce8c68f",
   "metadata": {},
   "source": [
    "## Data"
   ]
  },
  {
   "cell_type": "code",
   "execution_count": 4,
   "id": "1157f73d",
   "metadata": {},
   "outputs": [],
   "source": [
    "# Step 1. Prepare data-1/2\n",
    "# DataLoader wraps a Dataset and provides minibatches, shuffling, multithreading, for you\n",
    "data_in=np.loadtxt('./data/preserved/input_div_U_2_1s.dat')\n",
    "x_in=torch.Tensor(data_in)\n",
    "x_in=x_in.to(device)"
   ]
  },
  {
   "cell_type": "code",
   "execution_count": 5,
   "id": "849bbccf",
   "metadata": {
    "scrolled": true
   },
   "outputs": [
    {
     "name": "stdout",
     "output_type": "stream",
     "text": [
      "torch.Size([1000, 6400])\n"
     ]
    }
   ],
   "source": [
    "x=x_in\n",
    "print(x.size())"
   ]
  },
  {
   "cell_type": "code",
   "execution_count": 6,
   "id": "b439a28b",
   "metadata": {},
   "outputs": [],
   "source": [
    "loader=DataLoader(TensorDataset(x, x), batch_size=batch)"
   ]
  },
  {
   "cell_type": "markdown",
   "id": "782c5516",
   "metadata": {},
   "source": [
    "## Model"
   ]
  },
  {
   "cell_type": "code",
   "execution_count": 7,
   "id": "534a75bf",
   "metadata": {},
   "outputs": [],
   "source": [
    "# Convolutional neural network (two convolutional layers)\n",
    "import torch.nn as nn\n",
    "import torch.nn.functional as F\n",
    "\n",
    "class ConvNet(torch.nn.Module):\n",
    "    def __init__(self, channel_1, channel_2, channel_3, channel_4, channel_5, kernel_dim):\n",
    "        super(ConvNet, self).__init__()\n",
    "        # 1 input image channel, 6 output channels, 5x5 square convolution\n",
    "        # kernel\n",
    "        self.conv1 = nn.Conv2d(1, channel_1, kernel_dim, padding=pad[0])\n",
    "        self.conv2 = nn.Conv2d(channel_1, channel_2, kernel_dim, padding=pad[1])\n",
    "        self.conv3 = nn.Conv2d(channel_2, channel_3, kernel_dim, padding=pad[2])\n",
    "        self.conv4 = nn.Conv2d(channel_3, channel_4, kernel_dim, padding=pad[3])\n",
    "        self.conv5 = nn.Conv2d(channel_4, channel_5, kernel_dim, padding=pad[4])\n",
    "        # an affine operation: y = Wx + b\n",
    "        lin_d=80-(pad[0]+pad[1]+pad[2]+pad[3]+pad[4])*2\n",
    "        self.fc1 = nn.Linear(70*70*channel_5, 6400)  # 78*78 from image dimension\n",
    "        #self.fc2 = nn.Linear(1000, 1000)\n",
    "        #self.fc3 = nn.Linear(1000, 6400)\n",
    "        \n",
    "    def forward(self, x):\n",
    "        x = F.relu(self.conv1(x))\n",
    "        x = F.relu(self.conv2(x))\n",
    "        x = F.relu(self.conv3(x))\n",
    "        x = F.relu(self.conv4(x))\n",
    "        x = F.relu(self.conv5(x))\n",
    "        x = torch.flatten(x, 1) # flatten all dimensions except the batch dimension\n",
    "        #x = F.relu(self.fc1(x))\n",
    "        #x = F.relu(self.fc2(x))\n",
    "        x = self.fc1(x)\n",
    "        return x\n",
    "\n",
    "model = ConvNet(channel_1=ch[1], channel_2=ch[2], channel_3=ch[3], channel_4=ch[4], channel_5=1, kernel_dim=3).to(device)"
   ]
  },
  {
   "cell_type": "markdown",
   "id": "3e42a038",
   "metadata": {},
   "source": [
    "## Training"
   ]
  },
  {
   "cell_type": "code",
   "execution_count": 8,
   "id": "687717dd",
   "metadata": {},
   "outputs": [],
   "source": [
    "if opt==0:\n",
    "    optimizer=torch.optim.RMSprop(model.parameters(), lr=0.001, alpha=0.99, eps=1e-08, weight_decay=0, momentum=0, centered=False)\n",
    "elif opt==1:\n",
    "    optimizer=torch.optim.Adam(model.parameters(), lr=1e-3)\n",
    "\n",
    "\n",
    "scheduler = torch.optim.lr_scheduler.StepLR(optimizer, step_size=5000, gamma=0.1)"
   ]
  },
  {
   "cell_type": "code",
   "execution_count": 9,
   "id": "66d34a83",
   "metadata": {
    "scrolled": true
   },
   "outputs": [
    {
     "name": "stdout",
     "output_type": "stream",
     "text": [
      "Epochs    Loss\n"
     ]
    },
    {
     "name": "stderr",
     "output_type": "stream",
     "text": [
      "/home/enchou/anaconda3/envs/pytorch/lib/python3.10/site-packages/torch/optim/lr_scheduler.py:131: UserWarning: Detected call of `lr_scheduler.step()` before `optimizer.step()`. In PyTorch 1.1.0 and later, you should call them in the opposite order: `optimizer.step()` before `lr_scheduler.step()`.  Failure to do this will result in PyTorch skipping the first value of the learning rate schedule. See more details at https://pytorch.org/docs/stable/optim.html#how-to-adjust-learning-rate\n",
      "  warnings.warn(\"Detected call of `lr_scheduler.step()` before `optimizer.step()`. \"\n",
      "/tmp/ipykernel_22131/671386213.py:32: UserWarning: Using a target size (torch.Size([100, 1, 80, 80])) that is different to the input size (torch.Size([100, 80, 80])). This will likely lead to incorrect results due to broadcasting. Please ensure they have the same size.\n",
      "  loss=torch.nn.functional.mse_loss(L_y_pred, x_batch)\n"
     ]
    },
    {
     "name": "stdout",
     "output_type": "stream",
     "text": [
      "Epochs:  1 ; Loss:  0.2719424366950989\n",
      "Epochs:  2 ; Loss:  0.16902314126491547\n",
      "Epochs:  3 ; Loss:  0.09486370533704758\n",
      "Epochs:  4 ; Loss:  0.06893131881952286\n",
      "Epochs:  5 ; Loss:  0.05663325637578964\n",
      "Epochs:  6 ; Loss:  0.05023643746972084\n",
      "Epochs:  7 ; Loss:  0.04620736092329025\n",
      "Epochs:  8 ; Loss:  0.04332570359110832\n",
      "Epochs:  9 ; Loss:  0.041048914194107056\n",
      "Epochs:  10 ; Loss:  0.03911461681127548\n",
      "Epochs:  11 ; Loss:  0.03743026405572891\n",
      "Epochs:  12 ; Loss:  0.03592967242002487\n",
      "Epochs:  13 ; Loss:  0.034574929624795914\n",
      "Epochs:  14 ; Loss:  0.03333958610892296\n",
      "Epochs:  15 ; Loss:  0.03220416605472565\n",
      "Epochs:  16 ; Loss:  0.03115447610616684\n",
      "Epochs:  17 ; Loss:  0.03017968311905861\n",
      "Epochs:  18 ; Loss:  0.029270851984620094\n",
      "Epochs:  19 ; Loss:  0.02842083014547825\n",
      "Epochs:  20 ; Loss:  0.027623645961284637\n",
      "Epochs:  21 ; Loss:  0.02687409706413746\n",
      "Epochs:  22 ; Loss:  0.026167988777160645\n",
      "Epochs:  23 ; Loss:  0.025501461699604988\n",
      "Epochs:  24 ; Loss:  0.024871300905942917\n",
      "Epochs:  25 ; Loss:  0.02427416481077671\n",
      "Epochs:  26 ; Loss:  0.0237077958881855\n",
      "Epochs:  27 ; Loss:  0.02316979318857193\n",
      "Epochs:  28 ; Loss:  0.022657781839370728\n",
      "Epochs:  29 ; Loss:  0.022170133888721466\n",
      "Epochs:  30 ; Loss:  0.02170504815876484\n",
      "Epochs:  31 ; Loss:  0.021260976791381836\n",
      "Epochs:  32 ; Loss:  0.020836567506194115\n",
      "Epochs:  33 ; Loss:  0.02043038234114647\n",
      "Epochs:  34 ; Loss:  0.020041482523083687\n",
      "Epochs:  35 ; Loss:  0.01966850832104683\n",
      "Epochs:  36 ; Loss:  0.019310681149363518\n",
      "Epochs:  37 ; Loss:  0.01896708644926548\n",
      "Epochs:  38 ; Loss:  0.018636777997016907\n",
      "Epochs:  39 ; Loss:  0.018319055438041687\n",
      "Epochs:  40 ; Loss:  0.01801319606602192\n",
      "Epochs:  41 ; Loss:  0.017718560993671417\n",
      "Epochs:  42 ; Loss:  0.017434537410736084\n",
      "Epochs:  43 ; Loss:  0.017160551622509956\n",
      "Epochs:  44 ; Loss:  0.016896069049835205\n",
      "Epochs:  45 ; Loss:  0.016640679910779\n",
      "Epochs:  46 ; Loss:  0.01639382727444172\n",
      "Epochs:  47 ; Loss:  0.01615503616631031\n",
      "Epochs:  48 ; Loss:  0.01592409238219261\n",
      "Epochs:  49 ; Loss:  0.01570051908493042\n",
      "Epochs:  50 ; Loss:  0.015483787283301353\n",
      "Epochs:  51 ; Loss:  0.015273826196789742\n",
      "Epochs:  52 ; Loss:  0.015070156194269657\n",
      "Epochs:  53 ; Loss:  0.014872634783387184\n",
      "Epochs:  54 ; Loss:  0.0146809546276927\n",
      "Epochs:  55 ; Loss:  0.014494822360575199\n",
      "Epochs:  56 ; Loss:  0.014313980005681515\n",
      "Epochs:  57 ; Loss:  0.01413823664188385\n",
      "Epochs:  58 ; Loss:  0.013967416249215603\n",
      "Epochs:  59 ; Loss:  0.013801788911223412\n",
      "Epochs:  60 ; Loss:  0.013639411889016628\n",
      "Epochs:  61 ; Loss:  0.013481850735843182\n",
      "Epochs:  62 ; Loss:  0.013328297063708305\n",
      "Epochs:  63 ; Loss:  0.013178705237805843\n",
      "Epochs:  64 ; Loss:  0.013032974675297737\n",
      "Epochs:  65 ; Loss:  0.012891203165054321\n",
      "Epochs:  66 ; Loss:  0.012752463109791279\n",
      "Epochs:  67 ; Loss:  0.012617127038538456\n",
      "Epochs:  68 ; Loss:  0.012485317885875702\n",
      "Epochs:  69 ; Loss:  0.012356153689324856\n",
      "Epochs:  70 ; Loss:  0.012230285443365574\n",
      "Epochs:  71 ; Loss:  0.012107240036129951\n",
      "Epochs:  72 ; Loss:  0.011987053789198399\n",
      "Epochs:  73 ; Loss:  0.011869573965668678\n",
      "Epochs:  74 ; Loss:  0.011754240840673447\n",
      "Epochs:  75 ; Loss:  0.011641992256045341\n",
      "Epochs:  76 ; Loss:  0.01153162308037281\n",
      "Epochs:  77 ; Loss:  0.011423519812524319\n",
      "Epochs:  78 ; Loss:  0.01131786685436964\n",
      "Epochs:  79 ; Loss:  0.01121444534510374\n",
      "Epochs:  80 ; Loss:  0.011113157495856285\n",
      "Epochs:  81 ; Loss:  0.011013723909854889\n",
      "Epochs:  82 ; Loss:  0.010916367173194885\n",
      "Epochs:  83 ; Loss:  0.010820752009749413\n",
      "Epochs:  84 ; Loss:  0.010727052576839924\n",
      "Epochs:  85 ; Loss:  0.010635201819241047\n",
      "Epochs:  86 ; Loss:  0.010545065626502037\n",
      "Epochs:  87 ; Loss:  0.010456823743879795\n",
      "Epochs:  88 ; Loss:  0.010369744151830673\n",
      "Epochs:  89 ; Loss:  0.010285036638379097\n",
      "Epochs:  90 ; Loss:  0.01020024809986353\n",
      "Epochs:  91 ; Loss:  0.010117868892848492\n",
      "Epochs:  92 ; Loss:  0.01003699004650116\n",
      "Epochs:  93 ; Loss:  0.009957624599337578\n"
     ]
    },
    {
     "ename": "AttributeError",
     "evalue": "'float' object has no attribute 'item'",
     "output_type": "error",
     "traceback": [
      "\u001b[0;31m---------------------------------------------------------------------------\u001b[0m",
      "\u001b[0;31mAttributeError\u001b[0m                            Traceback (most recent call last)",
      "Input \u001b[0;32mIn [9]\u001b[0m, in \u001b[0;36m<cell line: 51>\u001b[0;34m()\u001b[0m\n\u001b[1;32m     47\u001b[0m         \u001b[38;5;28mprint\u001b[39m(\u001b[38;5;124m\"\u001b[39m\u001b[38;5;124mEpochs: \u001b[39m\u001b[38;5;124m\"\u001b[39m, epochs, \u001b[38;5;124m\"\u001b[39m\u001b[38;5;124m; Loss: \u001b[39m\u001b[38;5;124m\"\u001b[39m, loss\u001b[38;5;241m.\u001b[39mitem())\n\u001b[1;32m     49\u001b[0m     loss\u001b[38;5;241m=\u001b[39mloss\u001b[38;5;241m.\u001b[39mitem()\n\u001b[0;32m---> 51\u001b[0m \u001b[38;5;28mprint\u001b[39m(epochs, \u001b[38;5;124m\"\u001b[39m\u001b[38;5;124m    \u001b[39m\u001b[38;5;124m\"\u001b[39m, \u001b[43mloss\u001b[49m\u001b[38;5;241;43m.\u001b[39;49m\u001b[43mitem\u001b[49m())\n\u001b[1;32m     53\u001b[0m \u001b[38;5;66;03m#Plot loss function\u001b[39;00m\n\u001b[1;32m     54\u001b[0m \u001b[38;5;28;01mfrom\u001b[39;00m \u001b[38;5;21;01mmatplotlib\u001b[39;00m \u001b[38;5;28;01mimport\u001b[39;00m pyplot \u001b[38;5;28;01mas\u001b[39;00m plt\n",
      "\u001b[0;31mAttributeError\u001b[0m: 'float' object has no attribute 'item'"
     ]
    }
   ],
   "source": [
    "loss_epoch=[]\n",
    "loss_values = []\n",
    "loss=1\n",
    "epochs=0\n",
    "\n",
    "print(\"Epochs    Loss\")\n",
    "\n",
    "while(loss>tol):\n",
    "    epochs=epochs+1\n",
    "    scheduler.step()\n",
    "    \n",
    "    for x_batch, y_batch in loader:\n",
    "        # Forward pass\n",
    "        x_batch= torch.nn.Sequential(torch.nn.Unflatten(1, (1,80,80)))(x_batch)\n",
    "        y_pred=model(x_batch)        \n",
    "        \n",
    "        # Compute laplacian\n",
    "        y_pred= torch.nn.Sequential(torch.nn.Unflatten(1, (80,80)))(y_pred)\n",
    "        \n",
    "        z=torch.concat([y_pred[:, :, :1], y_pred], axis=2)[:, :, :80]\n",
    "        w=torch.concat([y_pred, y_pred[:, :, 79:]], axis=2)[:, :, 1:]\n",
    "        m=torch.concat([y_pred[:, :1, :], y_pred], axis=1)[:, :80, :]\n",
    "        n=torch.concat([y_pred, y_pred[:, 79:, :]], axis=1)[:, 1:, :]\n",
    "        L_y_pred=(z+w+m+n-4*y_pred)*40 # h=1/80 /2h=>*40\n",
    "        \n",
    "        # fix dimension: [100, 1, 80, 80]-> [100, 80, 80]\n",
    "        #with torch.no_grad():\n",
    "        #    L_y_pred=L_y_pred*1\n",
    "        #\n",
    "        #L_y_pred_resized=L_y_pred.resize_(100, 1, 80, 80)\n",
    "        \n",
    "        loss=torch.nn.functional.mse_loss(L_y_pred, x_batch)\n",
    "        \n",
    "        # Backward pass\n",
    "        loss.requires_grad_(True)\n",
    "        loss.backward()\n",
    "        \n",
    "        # Update Weights\n",
    "        optimizer.step()\n",
    "        optimizer.zero_grad()\n",
    "        #print(\"1 batch\")\n",
    "    \n",
    "    loss_epoch.append(epochs)\n",
    "    loss_values.append(loss.item())\n",
    "    \n",
    "    if epochs%1==0:\n",
    "        print(\"Epochs: \", epochs, \"; Loss: \", loss.item())\n",
    "        \n",
    "    loss=loss.item()\n",
    "\n",
    "print(epochs, \"    \", loss.item())\n",
    "\n",
    "#Plot loss function\n",
    "from matplotlib import pyplot as plt\n",
    "plt.plot(loss_epoch, loss_values)\n",
    "plt.xlabel('epochs')\n",
    "plt.ylabel('loss')"
   ]
  },
  {
   "cell_type": "markdown",
   "id": "8fc9dbba",
   "metadata": {},
   "source": [
    "## Result"
   ]
  },
  {
   "cell_type": "code",
   "execution_count": 13,
   "id": "8d52d543",
   "metadata": {},
   "outputs": [],
   "source": [
    "# Append name with time\n",
    "from datetime import datetime\n",
    "ct=datetime.now()\n",
    "ctime=\"_\"+str(ct.year)+str(ct.month)+str(ct.day)+\"_\"+str(ct.hour)+str(ct.minute)+str(ct.second)\n",
    "PATH=\"./result/\"+PATH+ctime+\".pth\""
   ]
  },
  {
   "cell_type": "code",
   "execution_count": 14,
   "id": "ea4f7897",
   "metadata": {
    "scrolled": true
   },
   "outputs": [
    {
     "data": {
      "image/png": "[encoded data removed]",
      "text/plain": [
       "<Figure size 432x288 with 1 Axes>"
      ]
     },
     "metadata": {
      "needs_background": "light"
     },
     "output_type": "display_data"
    }
   ],
   "source": [
    "#Plot loss function\n",
    "from matplotlib import pyplot as plt\n",
    "plt.plot(loss_epoch, loss_values)\n",
    "plt.xlabel('epochs')\n",
    "plt.ylabel('loss')\n",
    "plt.semilogy()\n",
    "plt.savefig(PATH+'.png')"
   ]
  },
  {
   "cell_type": "markdown",
   "id": "38d43359",
   "metadata": {},
   "source": [
    "## Export"
   ]
  },
  {
   "cell_type": "code",
   "execution_count": 15,
   "id": "9980d2cf",
   "metadata": {},
   "outputs": [],
   "source": [
    "traced_net=torch.jit.trace(model, (torch.randn(1, 1, 80,80)).to(device))\n",
    "traced_net.to(torch.float64)\n",
    "torch.jit.save(traced_net, PATH)"
   ]
  },
  {
   "cell_type": "code",
   "execution_count": null,
   "id": "5fae9781",
   "metadata": {},
   "outputs": [],
   "source": []
  }
 ],
 "metadata": {
  "kernelspec": {
   "display_name": "Python 3 (ipykernel)",
   "language": "python",
   "name": "python3"
  },
  "language_info": {
   "codemirror_mode": {
    "name": "ipython",
    "version": 3
   },
   "file_extension": ".py",
   "mimetype": "text/x-python",
   "name": "python",
   "nbconvert_exporter": "python",
   "pygments_lexer": "ipython3",
   "version": "3.10.4"
  }
 },
 "nbformat": 4,
 "nbformat_minor": 5
}
