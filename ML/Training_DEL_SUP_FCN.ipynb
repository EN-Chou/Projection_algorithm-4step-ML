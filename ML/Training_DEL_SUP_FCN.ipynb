{
 "cells": [
  {
   "cell_type": "markdown",
   "id": "3e6e43f9",
   "metadata": {},
   "source": [
    "## Preparation"
   ]
  },
  {
   "cell_type": "code",
   "execution_count": 1,
   "id": "4ebe9934",
   "metadata": {},
   "outputs": [],
   "source": [
    "import torch\n",
    "from torch.utils.data import TensorDataset, DataLoader\n",
    "import numpy as np"
   ]
  },
  {
   "cell_type": "code",
   "execution_count": null,
   "id": "fad5224e",
   "metadata": {},
   "outputs": [],
   "source": [
    "# device check(CFDLab)\n",
    "device=torch.device('cuda:1') #先調1再調0\n",
    "print(torch.cuda.is_available())\n",
    "x=torch.randn(100).to(device) # Gives warning"
   ]
  },
  {
   "cell_type": "code",
   "execution_count": null,
   "id": "2a358a80",
   "metadata": {},
   "outputs": [],
   "source": [
    "device=torch.device('cuda:0') # Fix warning\n",
    "x=torch.randn(100).to(device) # No warning"
   ]
  },
  {
   "cell_type": "code",
   "execution_count": 2,
   "id": "34dbfa78",
   "metadata": {},
   "outputs": [
    {
     "name": "stdout",
     "output_type": "stream",
     "text": [
      "False\n"
     ]
    },
    {
     "name": "stderr",
     "output_type": "stream",
     "text": [
      "/home/enchou/anaconda3/envs/pytorch/lib/python3.10/site-packages/torch/cuda/__init__.py:83: UserWarning: CUDA initialization: CUDA unknown error - this may be due to an incorrectly set up environment, e.g. changing env variable CUDA_VISIBLE_DEVICES after program start. Setting the available devices to be zero. (Triggered internally at  /opt/conda/conda-bld/pytorch_1659484803030/work/c10/cuda/CUDAFunctions.cpp:109.)\n",
      "  return torch._C._cuda_getDeviceCount() > 0\n"
     ]
    }
   ],
   "source": [
    "# device check(my pc)\n",
    "device=torch.device('cpu')\n",
    "print(torch.cuda.is_available())\n",
    "x=torch.randn(100).to(device) # No warning"
   ]
  },
  {
   "cell_type": "markdown",
   "id": "c262401a",
   "metadata": {},
   "source": [
    "## Parameters"
   ]
  },
  {
   "cell_type": "code",
   "execution_count": 3,
   "id": "88b237a3",
   "metadata": {},
   "outputs": [],
   "source": [
    "batch=200 #batchsize\n",
    "opt=1 # optimizer\n",
    "tol=1e-8 # tolerance\n",
    "n=[6400, 1000, 1000, 1000, 1000, 1000, 6400] #model layout\n",
    "PATH= \"DEL_SUP_FCN_TEST\" # model name, saved as.."
   ]
  },
  {
   "cell_type": "markdown",
   "id": "bce8c68f",
   "metadata": {},
   "source": [
    "## Data"
   ]
  },
  {
   "cell_type": "code",
   "execution_count": 4,
   "id": "1157f73d",
   "metadata": {},
   "outputs": [],
   "source": [
    "# Step 1. Prepare data-1/2\n",
    "# DataLoader wraps a Dataset and provides minibatches, shuffling, multithreading, for you\n",
    "data_in=np.loadtxt('./data/preserved/input_div_U_2_1s.dat')\n",
    "data_out=np.loadtxt('./data/preserved/output_P_1s.dat')\n",
    "x_in=torch.Tensor(data_in)\n",
    "y_in=torch.Tensor(data_out)\n",
    "\n",
    "x_in=x_in[1:]-x_in[:-1]\n",
    "y_in=y_in[1:]-y_in[:-1]\n",
    "\n",
    "x_in=x_in.to(device)\n",
    "y_in=y_in.to(device)"
   ]
  },
  {
   "cell_type": "code",
   "execution_count": 5,
   "id": "849bbccf",
   "metadata": {
    "scrolled": true
   },
   "outputs": [
    {
     "name": "stdout",
     "output_type": "stream",
     "text": [
      "torch.Size([999, 6400])\n",
      "torch.Size([999, 6400])\n"
     ]
    }
   ],
   "source": [
    "x=x_in\n",
    "y=y_in\n",
    "print(x.size())\n",
    "print(y.size())"
   ]
  },
  {
   "cell_type": "code",
   "execution_count": 6,
   "id": "b439a28b",
   "metadata": {},
   "outputs": [],
   "source": [
    "loader=DataLoader(TensorDataset(x, y), batch_size=batch)"
   ]
  },
  {
   "cell_type": "markdown",
   "id": "782c5516",
   "metadata": {},
   "source": [
    "## Model"
   ]
  },
  {
   "cell_type": "code",
   "execution_count": 7,
   "id": "534a75bf",
   "metadata": {},
   "outputs": [],
   "source": [
    "# Step 2. Create model 建立model習慣建立class\n",
    "class TwoLayerNet(torch.nn.Module):\n",
    "    def __init__(self, D_in, A, B, C, D, E, D_out):\n",
    "        super(TwoLayerNet, self).__init__()\n",
    "        self.linear_1=torch.nn.Linear(D_in, A)\n",
    "        self.linear_2=torch.nn.Linear(A, B)\n",
    "        self.linear_4=torch.nn.Linear(B, C)\n",
    "        self.linear_5=torch.nn.Linear(C, D)\n",
    "        self.linear_6=torch.nn.Linear(D, E)\n",
    "        self.linear_3=torch.nn.Linear(E, D_out)\n",
    "    \n",
    "    # Step 3. Forward pass-1/2    # Step 4. Backward pass-1/2\n",
    "    def forward(self, x):\n",
    "        a=self.linear_1(x)\n",
    "        a_relu=torch.nn.functional.relu(a) #為何activation and hidden layer 的實現方式不同\n",
    "        b=self.linear_2(a_relu) \n",
    "        b_relu=torch.nn.functional.relu(b)\n",
    "        c=self.linear_4(b_relu) \n",
    "        c_relu=torch.nn.functional.relu(c)\n",
    "        d=self.linear_5(c_relu) \n",
    "        d_relu=torch.nn.functional.relu(d)\n",
    "        e=self.linear_6(d_relu) \n",
    "        e_relu=torch.nn.functional.relu(e)\n",
    "        y_pred=self.linear_3(e_relu) \n",
    "        return y_pred\n",
    "    \n",
    "model= TwoLayerNet(D_in=6400, A=n[1], B=n[2], C=n[3], D=n[4], E=n[5], D_out=6400)\n",
    "model=model.to(device) #這行是什麼意思? A:将模型加载到相应的设备"
   ]
  },
  {
   "cell_type": "markdown",
   "id": "3e42a038",
   "metadata": {},
   "source": [
    "## Training"
   ]
  },
  {
   "cell_type": "code",
   "execution_count": 8,
   "id": "687717dd",
   "metadata": {},
   "outputs": [],
   "source": [
    "if opt==0:\n",
    "    optimizer=torch.optim.RMSprop(model.parameters(), lr=0.001, alpha=0.99, eps=1e-08, weight_decay=0, momentum=0, centered=False)\n",
    "elif opt==1:\n",
    "    optimizer=torch.optim.Adam(model.parameters(), lr=1e-3)\n",
    "\n",
    "\n",
    "scheduler = torch.optim.lr_scheduler.StepLR(optimizer, step_size=5000, gamma=0.1)"
   ]
  },
  {
   "cell_type": "code",
   "execution_count": 9,
   "id": "66d34a83",
   "metadata": {
    "scrolled": true
   },
   "outputs": [
    {
     "name": "stdout",
     "output_type": "stream",
     "text": [
      "Epochs    Loss\n"
     ]
    },
    {
     "name": "stderr",
     "output_type": "stream",
     "text": [
      "/home/enchou/anaconda3/envs/pytorch/lib/python3.10/site-packages/torch/optim/lr_scheduler.py:131: UserWarning: Detected call of `lr_scheduler.step()` before `optimizer.step()`. In PyTorch 1.1.0 and later, you should call them in the opposite order: `optimizer.step()` before `lr_scheduler.step()`.  Failure to do this will result in PyTorch skipping the first value of the learning rate schedule. See more details at https://pytorch.org/docs/stable/optim.html#how-to-adjust-learning-rate\n",
      "  warnings.warn(\"Detected call of `lr_scheduler.step()` before `optimizer.step()`. \"\n"
     ]
    },
    {
     "name": "stdout",
     "output_type": "stream",
     "text": [
      "Epochs:  1 ; Loss:  4.374239142634906e-05\n",
      "Epochs:  2 ; Loss:  1.527829772385303e-05\n",
      "Epochs:  3 ; Loss:  5.883193352929084e-06\n",
      "Epochs:  4 ; Loss:  2.4580090212111827e-06\n",
      "Epochs:  5 ; Loss:  2.3846016574680107e-06\n",
      "Epochs:  6 ; Loss:  9.487623628956499e-07\n",
      "Epochs:  7 ; Loss:  7.084522053446562e-07\n",
      "Epochs:  8 ; Loss:  4.962501520822116e-07\n",
      "Epochs:  9 ; Loss:  2.468330819738185e-07\n",
      "Epochs:  10 ; Loss:  1.9648580007469718e-07\n",
      "Epochs:  11 ; Loss:  1.8553950553723553e-07\n",
      "Epochs:  12 ; Loss:  1.2797202941783326e-07\n",
      "Epochs:  13 ; Loss:  1.1578944025814053e-07\n",
      "Epochs:  14 ; Loss:  8.68380993779283e-08\n",
      "Epochs:  15 ; Loss:  4.91645891997905e-07\n",
      "Epochs:  16 ; Loss:  1.4889093336023507e-07\n",
      "Epochs:  17 ; Loss:  2.0499973629739543e-07\n",
      "Epochs:  18 ; Loss:  1.6463408769595844e-07\n",
      "Epochs:  19 ; Loss:  9.701570036213525e-08\n",
      "Epochs:  20 ; Loss:  9.003652934325146e-08\n",
      "Epochs:  21 ; Loss:  8.808698481743704e-08\n",
      "Epochs:  22 ; Loss:  2.917145138781052e-07\n",
      "Epochs:  23 ; Loss:  1.1137073840927769e-07\n",
      "Epochs:  24 ; Loss:  2.349309369265029e-07\n",
      "Epochs:  25 ; Loss:  9.640853448900089e-08\n",
      "Epochs:  26 ; Loss:  1.2848346386817866e-07\n",
      "Epochs:  27 ; Loss:  1.3346448213269468e-07\n",
      "Epochs:  28 ; Loss:  7.875838292648041e-08\n",
      "Epochs:  29 ; Loss:  6.061731028239592e-08\n",
      "Epochs:  30 ; Loss:  1.0177694065305332e-07\n",
      "Epochs:  31 ; Loss:  6.602785163067892e-08\n",
      "Epochs:  32 ; Loss:  1.1362885032895065e-07\n",
      "Epochs:  33 ; Loss:  6.874715552385169e-08\n",
      "Epochs:  34 ; Loss:  8.705051612878378e-08\n",
      "Epochs:  35 ; Loss:  7.708011651175184e-08\n",
      "Epochs:  36 ; Loss:  5.052282858741819e-08\n",
      "Epochs:  37 ; Loss:  3.322849977394071e-07\n",
      "Epochs:  38 ; Loss:  2.71281436425852e-07\n",
      "Epochs:  39 ; Loss:  2.2499209251236607e-07\n",
      "Epochs:  40 ; Loss:  1.9357571545697283e-07\n",
      "Epochs:  41 ; Loss:  7.90691032648283e-08\n",
      "Epochs:  42 ; Loss:  7.969689619358178e-08\n",
      "Epochs:  43 ; Loss:  8.062819034648783e-08\n",
      "Epochs:  44 ; Loss:  1.5471977121706004e-07\n",
      "Epochs:  45 ; Loss:  6.301712573986151e-08\n",
      "Epochs:  46 ; Loss:  6.196716384465617e-08\n",
      "Epochs:  47 ; Loss:  6.261954155206695e-08\n",
      "Epochs:  48 ; Loss:  1.0480643197752215e-07\n",
      "Epochs:  49 ; Loss:  5.742646180806332e-08\n",
      "Epochs:  50 ; Loss:  9.134068079674762e-08\n",
      "Epochs:  51 ; Loss:  1.8676452384625009e-07\n",
      "Epochs:  52 ; Loss:  1.364485768817758e-07\n",
      "Epochs:  53 ; Loss:  6.715917777455616e-08\n",
      "Epochs:  54 ; Loss:  1.8177212268710718e-07\n",
      "Epochs:  55 ; Loss:  3.001502477673057e-07\n",
      "Epochs:  56 ; Loss:  8.493474723536565e-08\n",
      "Epochs:  57 ; Loss:  9.410672419107868e-08\n",
      "Epochs:  58 ; Loss:  9.34343873382204e-08\n",
      "Epochs:  59 ; Loss:  8.641534776643311e-08\n",
      "Epochs:  60 ; Loss:  1.2471384991386003e-07\n",
      "Epochs:  61 ; Loss:  7.725052597606918e-08\n",
      "Epochs:  62 ; Loss:  1.5688124221924227e-07\n",
      "Epochs:  63 ; Loss:  4.2405531530675944e-08\n",
      "Epochs:  64 ; Loss:  9.840675119221487e-08\n",
      "Epochs:  65 ; Loss:  9.18359148727177e-08\n",
      "Epochs:  66 ; Loss:  8.331898015967454e-08\n",
      "Epochs:  67 ; Loss:  8.889050917559871e-08\n",
      "Epochs:  68 ; Loss:  6.421506526521625e-08\n",
      "Epochs:  69 ; Loss:  8.578628296618263e-08\n",
      "Epochs:  70 ; Loss:  6.638096294864226e-08\n",
      "Epochs:  71 ; Loss:  1.1226210006043402e-07\n",
      "Epochs:  72 ; Loss:  9.718724669482981e-08\n",
      "Epochs:  73 ; Loss:  1.7762214099548146e-07\n",
      "Epochs:  74 ; Loss:  2.0106969600419689e-07\n",
      "Epochs:  75 ; Loss:  1.2070611887793348e-07\n",
      "Epochs:  76 ; Loss:  1.2792658310445404e-07\n",
      "Epochs:  77 ; Loss:  9.006369339203957e-08\n",
      "Epochs:  78 ; Loss:  1.2808496308025497e-07\n",
      "Epochs:  79 ; Loss:  8.731294087738206e-08\n",
      "Epochs:  80 ; Loss:  1.0356859547755448e-07\n",
      "Epochs:  81 ; Loss:  8.752130753464371e-08\n",
      "Epochs:  82 ; Loss:  7.564979398466676e-08\n",
      "Epochs:  83 ; Loss:  8.492416725403018e-08\n",
      "Epochs:  84 ; Loss:  1.005460319447593e-07\n",
      "Epochs:  85 ; Loss:  6.913107597483759e-08\n",
      "Epochs:  86 ; Loss:  8.28075670256112e-08\n",
      "Epochs:  87 ; Loss:  8.125191897079276e-08\n",
      "Epochs:  88 ; Loss:  9.533269462735916e-08\n",
      "Epochs:  89 ; Loss:  9.91703288377721e-08\n",
      "Epochs:  90 ; Loss:  9.306229031835755e-08\n",
      "Epochs:  91 ; Loss:  9.531067490797795e-08\n",
      "Epochs:  92 ; Loss:  8.415998564714755e-08\n",
      "Epochs:  93 ; Loss:  9.756995922316491e-08\n",
      "Epochs:  94 ; Loss:  7.22587927270979e-08\n",
      "Epochs:  95 ; Loss:  1.279486099292626e-07\n",
      "Epochs:  96 ; Loss:  4.938850395319605e-08\n",
      "Epochs:  97 ; Loss:  1.995608585048103e-07\n",
      "Epochs:  98 ; Loss:  5.779075351597385e-08\n",
      "Epochs:  99 ; Loss:  1.7288942899540416e-07\n",
      "Epochs:  100 ; Loss:  9.599589390063556e-08\n",
      "Epochs:  101 ; Loss:  1.0921215221060265e-07\n",
      "Epochs:  102 ; Loss:  9.628040942288862e-08\n",
      "Epochs:  103 ; Loss:  1.0825651486356946e-07\n",
      "Epochs:  104 ; Loss:  9.641670573046213e-08\n",
      "Epochs:  105 ; Loss:  1.0362445124201258e-07\n",
      "Epochs:  106 ; Loss:  9.769514974777849e-08\n",
      "Epochs:  107 ; Loss:  9.19399170129509e-08\n",
      "Epochs:  108 ; Loss:  1.0717197085341468e-07\n",
      "Epochs:  109 ; Loss:  8.960375907918205e-08\n",
      "Epochs:  110 ; Loss:  1.0741205613840066e-07\n",
      "Epochs:  111 ; Loss:  9.49947036588128e-08\n",
      "Epochs:  112 ; Loss:  9.862829841722487e-08\n",
      "Epochs:  113 ; Loss:  1.4384465885086684e-07\n",
      "Epochs:  114 ; Loss:  2.0597792627086164e-07\n",
      "Epochs:  115 ; Loss:  4.406494156228291e-07\n",
      "Epochs:  116 ; Loss:  5.491311299010704e-07\n",
      "Epochs:  117 ; Loss:  6.698912216052122e-07\n",
      "Epochs:  118 ; Loss:  6.928665357008867e-07\n",
      "Epochs:  119 ; Loss:  2.597265336135024e-07\n",
      "Epochs:  120 ; Loss:  1.078774829466056e-07\n",
      "Epochs:  121 ; Loss:  3.0477698942377174e-07\n",
      "Epochs:  122 ; Loss:  2.4501301254531427e-07\n",
      "Epochs:  123 ; Loss:  1.9558041230993695e-07\n",
      "Epochs:  124 ; Loss:  1.2605921995145764e-07\n",
      "Epochs:  125 ; Loss:  1.81487763484256e-07\n",
      "Epochs:  126 ; Loss:  1.3085710293125885e-07\n",
      "Epochs:  127 ; Loss:  1.1451591319655563e-07\n",
      "Epochs:  128 ; Loss:  1.1620485906860267e-07\n",
      "Epochs:  129 ; Loss:  8.317381627875875e-08\n",
      "Epochs:  130 ; Loss:  6.722031997696831e-08\n",
      "Epochs:  131 ; Loss:  8.918741656316342e-08\n",
      "Epochs:  132 ; Loss:  8.138006535318709e-08\n",
      "Epochs:  133 ; Loss:  1.310222330630495e-07\n",
      "Epochs:  134 ; Loss:  1.095408777018747e-07\n",
      "Epochs:  135 ; Loss:  2.2007884581398685e-07\n",
      "Epochs:  136 ; Loss:  1.5049560886382096e-07\n",
      "Epochs:  137 ; Loss:  9.49256246940422e-08\n",
      "Epochs:  138 ; Loss:  7.27880262729741e-08\n",
      "Epochs:  139 ; Loss:  5.8793457213823785e-08\n",
      "Epochs:  140 ; Loss:  1.2572047580761136e-07\n",
      "Epochs:  141 ; Loss:  9.364228503727645e-08\n",
      "Epochs:  142 ; Loss:  2.904537552694819e-07\n",
      "Epochs:  143 ; Loss:  1.1236875252507161e-06\n",
      "Epochs:  144 ; Loss:  9.534975902170117e-07\n",
      "Epochs:  145 ; Loss:  5.470472501656332e-07\n",
      "Epochs:  146 ; Loss:  5.592794423137093e-07\n",
      "Epochs:  147 ; Loss:  1.8115508737537311e-07\n",
      "Epochs:  148 ; Loss:  1.7840147847891785e-07\n",
      "Epochs:  149 ; Loss:  2.393162503722124e-07\n",
      "Epochs:  150 ; Loss:  1.1951880196647835e-07\n",
      "Epochs:  151 ; Loss:  6.404192731679359e-08\n",
      "Epochs:  152 ; Loss:  7.429851933693499e-08\n",
      "Epochs:  153 ; Loss:  4.01226820656575e-08\n",
      "Epochs:  154 ; Loss:  3.546810845023174e-08\n",
      "Epochs:  155 ; Loss:  3.238439205688337e-08\n",
      "Epochs:  156 ; Loss:  7.086177333803789e-08\n",
      "Epochs:  157 ; Loss:  2.855786362943036e-07\n",
      "Epochs:  158 ; Loss:  9.88416559266625e-07\n",
      "Epochs:  159 ; Loss:  3.368159582350927e-07\n",
      "Epochs:  160 ; Loss:  4.4111854435868736e-07\n",
      "Epochs:  161 ; Loss:  1.4265814307634628e-08\n",
      "Epochs:  162 ; Loss:  3.275478661635134e-07\n",
      "Epochs:  163 ; Loss:  2.7980610184386023e-07\n",
      "Epochs:  164 ; Loss:  8.748854440909781e-08\n",
      "Epochs:  165 ; Loss:  1.6977942607354635e-07\n",
      "Epochs:  166 ; Loss:  1.598631058641331e-07\n",
      "Epochs:  167 ; Loss:  1.0039214259904838e-07\n",
      "Epochs:  168 ; Loss:  2.808065744375199e-07\n",
      "Epochs:  169 ; Loss:  2.1792391180497361e-07\n",
      "Epochs:  170 ; Loss:  1.468532815351864e-07\n",
      "Epochs:  171 ; Loss:  1.0736162892044376e-07\n",
      "Epochs:  172 ; Loss:  1.3491673200860532e-07\n",
      "Epochs:  173 ; Loss:  1.637194486647786e-07\n",
      "Epochs:  174 ; Loss:  6.974070743126504e-08\n",
      "Epochs:  175 ; Loss:  1.3756364047878833e-08\n",
      "Epochs:  176 ; Loss:  3.075745880209979e-08\n",
      "Epochs:  177 ; Loss:  3.0627571590002844e-08\n",
      "Epochs:  178 ; Loss:  2.8389289141728113e-08\n",
      "Epochs:  179 ; Loss:  2.99284650395748e-08\n",
      "Epochs:  180 ; Loss:  3.819894445200589e-08\n",
      "Epochs:  181 ; Loss:  5.091194310580249e-08\n",
      "Epochs:  182 ; Loss:  1.8334498363969942e-08\n",
      "Epochs:  183 ; Loss:  5.528413726807457e-09\n"
     ]
    },
    {
     "ename": "AttributeError",
     "evalue": "'float' object has no attribute 'item'",
     "output_type": "error",
     "traceback": [
      "\u001b[0;31m---------------------------------------------------------------------------\u001b[0m",
      "\u001b[0;31mAttributeError\u001b[0m                            Traceback (most recent call last)",
      "Input \u001b[0;32mIn [9]\u001b[0m, in \u001b[0;36m<cell line: 34>\u001b[0;34m()\u001b[0m\n\u001b[1;32m     30\u001b[0m         \u001b[38;5;28mprint\u001b[39m(\u001b[38;5;124m\"\u001b[39m\u001b[38;5;124mEpochs: \u001b[39m\u001b[38;5;124m\"\u001b[39m, epochs, \u001b[38;5;124m\"\u001b[39m\u001b[38;5;124m; Loss: \u001b[39m\u001b[38;5;124m\"\u001b[39m, loss\u001b[38;5;241m.\u001b[39mitem())\n\u001b[1;32m     32\u001b[0m     loss\u001b[38;5;241m=\u001b[39mloss\u001b[38;5;241m.\u001b[39mitem()\n\u001b[0;32m---> 34\u001b[0m \u001b[38;5;28mprint\u001b[39m(epochs, \u001b[38;5;124m\"\u001b[39m\u001b[38;5;124m    \u001b[39m\u001b[38;5;124m\"\u001b[39m, \u001b[43mloss\u001b[49m\u001b[38;5;241;43m.\u001b[39;49m\u001b[43mitem\u001b[49m())\n\u001b[1;32m     36\u001b[0m \u001b[38;5;66;03m#Plot loss function\u001b[39;00m\n\u001b[1;32m     37\u001b[0m \u001b[38;5;28;01mfrom\u001b[39;00m \u001b[38;5;21;01mmatplotlib\u001b[39;00m \u001b[38;5;28;01mimport\u001b[39;00m pyplot \u001b[38;5;28;01mas\u001b[39;00m plt\n",
      "\u001b[0;31mAttributeError\u001b[0m: 'float' object has no attribute 'item'"
     ]
    }
   ],
   "source": [
    "loss_epoch=[]\n",
    "loss_values = []\n",
    "loss=1\n",
    "epochs=0\n",
    "\n",
    "print(\"Epochs    Loss\")\n",
    "\n",
    "while(loss>tol):\n",
    "    epochs=epochs+1\n",
    "    scheduler.step()\n",
    "    \n",
    "    for x_batch, y_batch in loader:\n",
    "        # Forward pass\n",
    "        y_pred=model(x_batch)        \n",
    "        loss=torch.nn.functional.mse_loss(y_pred, y_batch)\n",
    "        \n",
    "        # Backward pass\n",
    "        loss.requires_grad_(True)\n",
    "        loss.backward()\n",
    "        \n",
    "        # Update Weights\n",
    "        optimizer.step()\n",
    "        optimizer.zero_grad()\n",
    "        #print(\"1 batch\")\n",
    "    \n",
    "    loss_epoch.append(epochs)\n",
    "    loss_values.append(loss.item())\n",
    "    \n",
    "    if epochs%1==0:\n",
    "        print(\"Epochs: \", epochs, \"; Loss: \", loss.item())\n",
    "        \n",
    "    loss=loss.item()\n",
    "\n",
    "print(epochs, \"    \", loss.item())\n",
    "\n",
    "#Plot loss function\n",
    "from matplotlib import pyplot as plt\n",
    "plt.plot(loss_epoch, loss_values)\n",
    "plt.xlabel('epochs')\n",
    "plt.ylabel('loss')"
   ]
  },
  {
   "cell_type": "markdown",
   "id": "8fc9dbba",
   "metadata": {},
   "source": [
    "## Result"
   ]
  },
  {
   "cell_type": "code",
   "execution_count": 10,
   "id": "8d52d543",
   "metadata": {},
   "outputs": [],
   "source": [
    "# Append name with time\n",
    "from datetime import datetime\n",
    "ct=datetime.now()\n",
    "ctime=str(ct.year)+str(ct.month)+str(ct.day)+\"_\"+str(ct.hour)+str(ct.minute)+str(ct.second)\n",
    "PATH=PATH+\"_\"+ctime #"
   ]
  },
  {
   "cell_type": "code",
   "execution_count": 11,
   "id": "ea4f7897",
   "metadata": {
    "scrolled": true
   },
   "outputs": [
    {
     "data": {
      "image/png": "[encoded data removed]",
      "text/plain": [
       "<Figure size 432x288 with 1 Axes>"
      ]
     },
     "metadata": {
      "needs_background": "light"
     },
     "output_type": "display_data"
    }
   ],
   "source": [
    "#Plot loss function\n",
    "from matplotlib import pyplot as plt\n",
    "plt.plot(loss_epoch, loss_values)\n",
    "plt.xlabel('epochs')\n",
    "plt.ylabel('loss')\n",
    "plt.semilogy()\n",
    "plt.savefig(\"./result/\"+PATH+'.png')"
   ]
  },
  {
   "cell_type": "markdown",
   "id": "38d43359",
   "metadata": {},
   "source": [
    "## Export"
   ]
  },
  {
   "cell_type": "code",
   "execution_count": 12,
   "id": "f441f368",
   "metadata": {},
   "outputs": [],
   "source": [
    "device=torch.device('cpu')\n",
    "model=model.to(device)\n",
    "traced_net=torch.jit.trace(model, (torch.randn(1,6400)).to(device))\n",
    "traced_net.to(torch.float64)\n",
    "torch.jit.save(traced_net, \"./result/\"+PATH+\".pth\") #"
   ]
  },
  {
   "cell_type": "code",
   "execution_count": 13,
   "id": "9980d2cf",
   "metadata": {},
   "outputs": [],
   "source": [
    "# Save information\n",
    "with open(\"./result/\"+PATH+'.txt', 'w') as f:\n",
    "        f.write('# Model info\\n')\n",
    "        f.write('Model: '+ PATH+'\\n')\n",
    "        f.write('ID: '+ ctime +'\\n')\n",
    "        f.write('Data format: '+ 'Delta' +'\\n')\n",
    "        f.write('Learning method: Supervised'+'\\n')\n",
    "        f.write('Model: FCN'+'\\n')\n",
    "        f.write('residual: '+str(tol)+'\\n')\n",
    "        f.write('batch_size: '+str(batch)+'\\n')\n",
    "        f.write('epochs: '+str(epochs)+'\\n')"
   ]
  },
  {
   "cell_type": "code",
   "execution_count": null,
   "id": "c85fc987",
   "metadata": {},
   "outputs": [],
   "source": []
  }
 ],
 "metadata": {
  "kernelspec": {
   "display_name": "Python 3 (ipykernel)",
   "language": "python",
   "name": "python3"
  },
  "language_info": {
   "codemirror_mode": {
    "name": "ipython",
    "version": 3
   },
   "file_extension": ".py",
   "mimetype": "text/x-python",
   "name": "python",
   "nbconvert_exporter": "python",
   "pygments_lexer": "ipython3",
   "version": "3.10.4"
  }
 },
 "nbformat": 4,
 "nbformat_minor": 5
}
