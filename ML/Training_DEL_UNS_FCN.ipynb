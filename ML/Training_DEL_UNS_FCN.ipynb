{
 "cells": [
  {
   "cell_type": "markdown",
   "id": "3e6e43f9",
   "metadata": {},
   "source": [
    "## Preparation"
   ]
  },
  {
   "cell_type": "code",
   "execution_count": 1,
   "id": "4ebe9934",
   "metadata": {},
   "outputs": [],
   "source": [
    "import torch\n",
    "from torch.utils.data import TensorDataset, DataLoader\n",
    "import numpy as np"
   ]
  },
  {
   "cell_type": "code",
   "execution_count": null,
   "id": "fad5224e",
   "metadata": {},
   "outputs": [],
   "source": [
    "# device check(CFDLab)\n",
    "device=torch.device('cuda:1') #先調1再調0\n",
    "print(torch.cuda.is_available())\n",
    "x=torch.randn(100).to(device) # Gives warning"
   ]
  },
  {
   "cell_type": "code",
   "execution_count": null,
   "id": "2a358a80",
   "metadata": {},
   "outputs": [],
   "source": [
    "device=torch.device('cuda:0') # Fix warning\n",
    "x=torch.randn(100).to(device) # No warning"
   ]
  },
  {
   "cell_type": "code",
   "execution_count": 2,
   "id": "34dbfa78",
   "metadata": {
    "scrolled": true
   },
   "outputs": [
    {
     "name": "stdout",
     "output_type": "stream",
     "text": [
      "False\n"
     ]
    },
    {
     "name": "stderr",
     "output_type": "stream",
     "text": [
      "/home/enchou/anaconda3/envs/pytorch/lib/python3.10/site-packages/torch/cuda/__init__.py:83: UserWarning: CUDA initialization: CUDA unknown error - this may be due to an incorrectly set up environment, e.g. changing env variable CUDA_VISIBLE_DEVICES after program start. Setting the available devices to be zero. (Triggered internally at  /opt/conda/conda-bld/pytorch_1659484803030/work/c10/cuda/CUDAFunctions.cpp:109.)\n",
      "  return torch._C._cuda_getDeviceCount() > 0\n"
     ]
    }
   ],
   "source": [
    "# device check(my pc)\n",
    "device=torch.device('cpu')\n",
    "print(torch.cuda.is_available())\n",
    "x=torch.randn(100).to(device) # No warning"
   ]
  },
  {
   "cell_type": "markdown",
   "id": "c262401a",
   "metadata": {},
   "source": [
    "## Parameters"
   ]
  },
  {
   "cell_type": "code",
   "execution_count": 3,
   "id": "88b237a3",
   "metadata": {},
   "outputs": [],
   "source": [
    "batch=100 #batchsize\n",
    "opt=1 # optimizer 1: Adams, better\n",
    "tol=1e-4 # tolerance\n",
    "n=[6400, 1000, 1000, 1000, 1000, 1000, 6400] #model layout\n",
    "PATH= \"DEL_UNS_FCN_TEST\" # model name, saved as.."
   ]
  },
  {
   "cell_type": "markdown",
   "id": "bce8c68f",
   "metadata": {},
   "source": [
    "## Data"
   ]
  },
  {
   "cell_type": "code",
   "execution_count": 4,
   "id": "1157f73d",
   "metadata": {},
   "outputs": [],
   "source": [
    "# Step 1. Prepare data-1/2\n",
    "# DataLoader wraps a Dataset and provides minibatches, shuffling, multithreading, for you\n",
    "data_in=np.loadtxt('./data/preserved/input_div_U_2_1s.dat')\n",
    "x_in=torch.Tensor(data_in)\n",
    "\n",
    "x_in=x_in[1:]-x_in[:-1]\n",
    "\n",
    "x_in=x_in.to(device)"
   ]
  },
  {
   "cell_type": "code",
   "execution_count": 5,
   "id": "849bbccf",
   "metadata": {
    "scrolled": true
   },
   "outputs": [
    {
     "name": "stdout",
     "output_type": "stream",
     "text": [
      "torch.Size([999, 6400])\n"
     ]
    }
   ],
   "source": [
    "x=x_in\n",
    "print(x.size())"
   ]
  },
  {
   "cell_type": "code",
   "execution_count": 6,
   "id": "b439a28b",
   "metadata": {},
   "outputs": [],
   "source": [
    "loader=DataLoader(TensorDataset(x, x), batch_size=batch)"
   ]
  },
  {
   "cell_type": "markdown",
   "id": "782c5516",
   "metadata": {},
   "source": [
    "## Model"
   ]
  },
  {
   "cell_type": "code",
   "execution_count": 7,
   "id": "534a75bf",
   "metadata": {},
   "outputs": [],
   "source": [
    "# Step 2. Create model 建立model習慣建立class\n",
    "class TwoLayerNet(torch.nn.Module):\n",
    "    def __init__(self, D_in, A, B, C, D, E, D_out):\n",
    "        super(TwoLayerNet, self).__init__()\n",
    "        self.linear_1=torch.nn.Linear(D_in, A)\n",
    "        self.linear_2=torch.nn.Linear(A, B)\n",
    "        self.linear_4=torch.nn.Linear(B, C)\n",
    "        self.linear_5=torch.nn.Linear(C, D)\n",
    "        self.linear_6=torch.nn.Linear(D, E)\n",
    "        self.linear_3=torch.nn.Linear(E, D_out)\n",
    "    \n",
    "    # Step 3. Forward pass-1/2    # Step 4. Backward pass-1/2\n",
    "    def forward(self, x):\n",
    "        a=self.linear_1(x)\n",
    "        a_relu=torch.nn.functional.relu(a) #為何activation and hidden layer 的實現方式不同\n",
    "        b=self.linear_2(a_relu) \n",
    "        b_relu=torch.nn.functional.relu(b)\n",
    "        c=self.linear_4(b_relu) \n",
    "        c_relu=torch.nn.functional.relu(c)\n",
    "        d=self.linear_5(c_relu) \n",
    "        d_relu=torch.nn.functional.relu(d)\n",
    "        e=self.linear_6(d_relu) \n",
    "        e_relu=torch.nn.functional.relu(e)\n",
    "        y_pred=self.linear_3(e_relu) \n",
    "        return y_pred\n",
    "    \n",
    "model= TwoLayerNet(D_in=6400, A=n[1], B=n[2], C=n[3], D=n[4], E=n[5], D_out=6400)\n",
    "model=model.to(device) #這行是什麼意思? A:将模型加载到相应的设备"
   ]
  },
  {
   "cell_type": "markdown",
   "id": "3e42a038",
   "metadata": {},
   "source": [
    "## Training"
   ]
  },
  {
   "cell_type": "code",
   "execution_count": 8,
   "id": "687717dd",
   "metadata": {},
   "outputs": [],
   "source": [
    "if opt==0:\n",
    "    optimizer=torch.optim.RMSprop(model.parameters(), lr=0.001, alpha=0.99, eps=1e-08, weight_decay=0, momentum=0, centered=False)\n",
    "elif opt==1:\n",
    "    optimizer=torch.optim.Adam(model.parameters(), lr=1e-3)\n",
    "\n",
    "\n",
    "scheduler = torch.optim.lr_scheduler.StepLR(optimizer, step_size=5000, gamma=0.1)"
   ]
  },
  {
   "cell_type": "code",
   "execution_count": 9,
   "id": "66d34a83",
   "metadata": {
    "scrolled": true
   },
   "outputs": [
    {
     "name": "stdout",
     "output_type": "stream",
     "text": [
      "Epochs    Loss\n"
     ]
    },
    {
     "name": "stderr",
     "output_type": "stream",
     "text": [
      "/home/enchou/anaconda3/envs/pytorch/lib/python3.10/site-packages/torch/optim/lr_scheduler.py:131: UserWarning: Detected call of `lr_scheduler.step()` before `optimizer.step()`. In PyTorch 1.1.0 and later, you should call them in the opposite order: `optimizer.step()` before `lr_scheduler.step()`.  Failure to do this will result in PyTorch skipping the first value of the learning rate schedule. See more details at https://pytorch.org/docs/stable/optim.html#how-to-adjust-learning-rate\n",
      "  warnings.warn(\"Detected call of `lr_scheduler.step()` before `optimizer.step()`. \"\n"
     ]
    },
    {
     "name": "stdout",
     "output_type": "stream",
     "text": [
      "Epochs:  1 ; Loss:  0.34078505635261536\n",
      "Epochs:  2 ; Loss:  0.0917920246720314\n",
      "Epochs:  3 ; Loss:  0.05613802373409271\n",
      "Epochs:  4 ; Loss:  0.0174288060516119\n",
      "Epochs:  5 ; Loss:  0.0095165790989995\n",
      "Epochs:  6 ; Loss:  0.006165702827274799\n",
      "Epochs:  7 ; Loss:  0.004078407306224108\n",
      "Epochs:  8 ; Loss:  0.0029087853617966175\n",
      "Epochs:  9 ; Loss:  0.002552678808569908\n",
      "Epochs:  10 ; Loss:  0.0016464776126667857\n",
      "Epochs:  11 ; Loss:  0.0012868335470557213\n",
      "Epochs:  12 ; Loss:  0.0010135583579540253\n",
      "Epochs:  13 ; Loss:  0.0008292627753689885\n",
      "Epochs:  14 ; Loss:  0.0006801573326811194\n",
      "Epochs:  15 ; Loss:  0.0005665018688887358\n",
      "Epochs:  16 ; Loss:  0.0004764217883348465\n",
      "Epochs:  17 ; Loss:  0.00040239159716293216\n",
      "Epochs:  18 ; Loss:  0.00034299970138818026\n",
      "Epochs:  19 ; Loss:  0.0002936825912911445\n",
      "Epochs:  20 ; Loss:  0.00025369375362060964\n",
      "Epochs:  21 ; Loss:  0.00022323006123770028\n",
      "Epochs:  22 ; Loss:  0.00019402719044592232\n",
      "Epochs:  23 ; Loss:  0.00016925866657402366\n",
      "Epochs:  24 ; Loss:  0.00014842259406577796\n",
      "Epochs:  25 ; Loss:  0.00013242053682915866\n",
      "Epochs:  26 ; Loss:  0.00011924490536330268\n",
      "Epochs:  27 ; Loss:  0.00010509086132515222\n",
      "Epochs:  28 ; Loss:  9.414488886250183e-05\n"
     ]
    },
    {
     "ename": "AttributeError",
     "evalue": "'float' object has no attribute 'item'",
     "output_type": "error",
     "traceback": [
      "\u001b[0;31m---------------------------------------------------------------------------\u001b[0m",
      "\u001b[0;31mAttributeError\u001b[0m                            Traceback (most recent call last)",
      "Input \u001b[0;32mIn [9]\u001b[0m, in \u001b[0;36m<cell line: 48>\u001b[0;34m()\u001b[0m\n\u001b[1;32m     44\u001b[0m         \u001b[38;5;28mprint\u001b[39m(\u001b[38;5;124m\"\u001b[39m\u001b[38;5;124mEpochs: \u001b[39m\u001b[38;5;124m\"\u001b[39m, epochs, \u001b[38;5;124m\"\u001b[39m\u001b[38;5;124m; Loss: \u001b[39m\u001b[38;5;124m\"\u001b[39m, loss\u001b[38;5;241m.\u001b[39mitem())\n\u001b[1;32m     46\u001b[0m     loss\u001b[38;5;241m=\u001b[39mloss\u001b[38;5;241m.\u001b[39mitem()\n\u001b[0;32m---> 48\u001b[0m \u001b[38;5;28mprint\u001b[39m(epochs, \u001b[38;5;124m\"\u001b[39m\u001b[38;5;124m    \u001b[39m\u001b[38;5;124m\"\u001b[39m, \u001b[43mloss\u001b[49m\u001b[38;5;241;43m.\u001b[39;49m\u001b[43mitem\u001b[49m())\n\u001b[1;32m     50\u001b[0m \u001b[38;5;66;03m#Plot loss function\u001b[39;00m\n\u001b[1;32m     51\u001b[0m \u001b[38;5;28;01mfrom\u001b[39;00m \u001b[38;5;21;01mmatplotlib\u001b[39;00m \u001b[38;5;28;01mimport\u001b[39;00m pyplot \u001b[38;5;28;01mas\u001b[39;00m plt\n",
      "\u001b[0;31mAttributeError\u001b[0m: 'float' object has no attribute 'item'"
     ]
    }
   ],
   "source": [
    "loss_epoch=[]\n",
    "loss_values = []\n",
    "loss=1\n",
    "epochs=0\n",
    "\n",
    "print(\"Epochs    Loss\")\n",
    "\n",
    "while(loss>tol):\n",
    "    epochs=epochs+1\n",
    "    scheduler.step()\n",
    "    \n",
    "    for x_batch, y_batch in loader:\n",
    "        # Forward pass\n",
    "        y_pred=model(x_batch)\n",
    "        \n",
    "        # Compute laplacian\n",
    "        x_2d= torch.nn.Sequential(torch.nn.Unflatten(1, (1,80,80)))(x_batch)\n",
    "        y_pred= torch.nn.Sequential(torch.nn.Unflatten(1, (80,80)))(y_pred)\n",
    "        \n",
    "        z=torch.concat([y_pred[:, :, :1], y_pred], axis=2)[:, :, :80]\n",
    "        w=torch.concat([y_pred, y_pred[:, :, 79:]], axis=2)[:, :, 1:]\n",
    "        m=torch.concat([y_pred[:, :1, :], y_pred], axis=1)[:, :80, :]\n",
    "        n=torch.concat([y_pred, y_pred[:, 79:, :]], axis=1)[:, 1:, :]\n",
    "        L_y_pred=(z+w+m+n-4*y_pred)*40 # h=1/80 /2h=>*40\n",
    "        \n",
    "        # fix dimension: [100, 1, 80, 80]-> [100, 80, 80]\n",
    "        x_2d=x_2d.resize_(x_batch.size()[0], 80, 80)\n",
    "        \n",
    "        loss=torch.nn.functional.mse_loss(L_y_pred, x_2d)\n",
    "        \n",
    "        # Backward pass\n",
    "        loss.requires_grad_(True)\n",
    "        loss.backward()\n",
    "        \n",
    "        # Update Weights\n",
    "        optimizer.step()\n",
    "        optimizer.zero_grad()\n",
    "        #print(\"1 batch\")\n",
    "    \n",
    "    loss_epoch.append(epochs)\n",
    "    loss_values.append(loss.item())\n",
    "    \n",
    "    if epochs%1==0:\n",
    "        print(\"Epochs: \", epochs, \"; Loss: \", loss.item())\n",
    "        \n",
    "    loss=loss.item()\n",
    "\n",
    "print(epochs, \"    \", loss.item())\n",
    "\n",
    "#Plot loss function\n",
    "from matplotlib import pyplot as plt\n",
    "plt.plot(loss_epoch, loss_values)\n",
    "plt.xlabel('epochs')\n",
    "plt.ylabel('loss')"
   ]
  },
  {
   "cell_type": "markdown",
   "id": "8fc9dbba",
   "metadata": {},
   "source": [
    "## Result"
   ]
  },
  {
   "cell_type": "code",
   "execution_count": 10,
   "id": "8d52d543",
   "metadata": {},
   "outputs": [],
   "source": [
    "# Append name with time\n",
    "from datetime import datetime\n",
    "ct=datetime.now()\n",
    "ctime=str(ct.year)+str(ct.month)+str(ct.day)+\"_\"+str(ct.hour)+str(ct.minute)+str(ct.second)\n",
    "PATH=PATH+\"_\"+ctime+\".pth\""
   ]
  },
  {
   "cell_type": "code",
   "execution_count": 11,
   "id": "ea4f7897",
   "metadata": {
    "scrolled": true
   },
   "outputs": [
    {
     "data": {
      "image/png": "[encoded data removed]",
      "text/plain": [
       "<Figure size 432x288 with 1 Axes>"
      ]
     },
     "metadata": {
      "needs_background": "light"
     },
     "output_type": "display_data"
    }
   ],
   "source": [
    "#Plot loss function\n",
    "from matplotlib import pyplot as plt\n",
    "plt.plot(loss_epoch, loss_values)\n",
    "plt.xlabel('epochs')\n",
    "plt.ylabel('loss')\n",
    "plt.semilogy()\n",
    "plt.savefig(\"./result/\"+PATH+'.png')"
   ]
  },
  {
   "cell_type": "markdown",
   "id": "38d43359",
   "metadata": {},
   "source": [
    "## Export"
   ]
  },
  {
   "cell_type": "code",
   "execution_count": 12,
   "id": "f441f368",
   "metadata": {},
   "outputs": [],
   "source": [
    "device=torch.device('cpu')\n",
    "model=model.to(device)\n",
    "traced_net=torch.jit.trace(model, (torch.randn(1,6400)).to(device))\n",
    "traced_net.to(torch.float64)\n",
    "torch.jit.save(traced_net, \"./result/\"+PATH)"
   ]
  },
  {
   "cell_type": "code",
   "execution_count": 12,
   "id": "9980d2cf",
   "metadata": {},
   "outputs": [],
   "source": [
    "# Save information\n",
    "with open(\"./result/\"+PATH+'.txt', 'w') as f:\n",
    "        f.write('# Model info\\n')\n",
    "        f.write('Model: '+ PATH+'\\n')\n",
    "        f.write('ID: '+ ctime +'\\n')\n",
    "        f.write('Data format: '+ 'Delta' +'\\n')\n",
    "        f.write('Learning method: Unsupervised'+'\\n')\n",
    "        f.write('Model: FCN'+'\\n')\n",
    "        f.write('residual: '+str(tol)+'\\n')\n",
    "        f.write('batch_size: '+str(batch)+'\\n')\n",
    "        f.write('epochs: '+str(epochs)+'\\n')"
   ]
  },
  {
   "cell_type": "code",
   "execution_count": null,
   "id": "fb9a6b7a",
   "metadata": {},
   "outputs": [],
   "source": []
  }
 ],
 "metadata": {
  "kernelspec": {
   "display_name": "Python 3 (ipykernel)",
   "language": "python",
   "name": "python3"
  },
  "language_info": {
   "codemirror_mode": {
    "name": "ipython",
    "version": 3
   },
   "file_extension": ".py",
   "mimetype": "text/x-python",
   "name": "python",
   "nbconvert_exporter": "python",
   "pygments_lexer": "ipython3",
   "version": "3.10.4"
  }
 },
 "nbformat": 4,
 "nbformat_minor": 5
}
