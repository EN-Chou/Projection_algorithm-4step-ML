{
 "cells": [
  {
   "cell_type": "markdown",
   "id": "2a6a039a",
   "metadata": {},
   "source": [
    "## 0. Dependency"
   ]
  },
  {
   "cell_type": "code",
   "execution_count": 1,
   "id": "036ed6d5",
   "metadata": {},
   "outputs": [],
   "source": [
    "import torch\n",
    "import cv2 #opencv\n",
    "from torch.utils.data import TensorDataset, DataLoader\n",
    "import numpy as np\n",
    "device='cpu'"
   ]
  },
  {
   "cell_type": "markdown",
   "id": "3651ec96",
   "metadata": {},
   "source": [
    "## 1. Python function-laplacian"
   ]
  },
  {
   "cell_type": "code",
   "execution_count": null,
   "id": "1640d0ea",
   "metadata": {},
   "outputs": [],
   "source": [
    "def laplacian(a):\n",
    "    L=torch.zeros(6400).to(device)\n",
    "    for i in range(6400):\n",
    "        #NORTH BOUND\n",
    "        if i<80:\n",
    "            A_N=a[i]\n",
    "        else:\n",
    "            A_N=a[i-80]\n",
    "        \n",
    "        #SOUTH BOUND\n",
    "        if i>=6320:\n",
    "            A_s=a[i]\n",
    "        else:\n",
    "            A_S=a[i+80]\n",
    "        \n",
    "        #WEST BOUND\n",
    "        if i%80==0:\n",
    "            A_W=a[i]\n",
    "        else:\n",
    "            A_W=a[i-1]\n",
    "        \n",
    "        #EAST BOUND\n",
    "        if i%80==79:\n",
    "            A_E=a[i]\n",
    "        else:\n",
    "            A_E=a[i+1]\n",
    "            \n",
    "        L[i]=(A_E+A_W+A_N+A_S-4*a[i])*80*80\n",
    "            \n",
    "    return L"
   ]
  },
  {
   "cell_type": "code",
   "execution_count": null,
   "id": "d86c94b5",
   "metadata": {},
   "outputs": [],
   "source": [
    "def LAPLACIAN(A):\n",
    "    size=A.size(dim=0)\n",
    "    LP=torch.rand(size,6400).to(device)\n",
    "    for i in range(size):\n",
    "        LP[i]=laplacian(A[i]);\n",
    "    return LP"
   ]
  },
  {
   "cell_type": "markdown",
   "id": "46449540",
   "metadata": {},
   "source": [
    "## 2. Opencv-laplacian"
   ]
  },
  {
   "cell_type": "code",
   "execution_count": 22,
   "id": "636a184a",
   "metadata": {},
   "outputs": [],
   "source": [
    "def LAP(A, dim):\n",
    "    LAP_A=torch.empty(len(A), dim, dim)\n",
    "    ## Pre-process ########################################################################################################\n",
    "    ### 1. Unflattened y_pred\n",
    "    A=torch.nn.Sequential(torch.nn.Unflatten(1, (1,N,N)))(A)\n",
    "    print(\"1. Unflattened y_pred, x.size(): \", A.size())\n",
    "    print(A)\n",
    "    \n",
    "    ### 2. Zero-pad y-pred (e.g., 80*80->82*82)\n",
    "    filters = torch.zeros(1, 1, 3, 3)\n",
    "    filters[0][0][1][1]=1\n",
    "    A=torch.nn.functional.conv2d(A, filters, padding=2)\n",
    "    print(\"2. Zero-pad y-pred, x.size(): \", A.size())\n",
    "    print(A)\n",
    "\n",
    "    ### 3. Fill in BC into the zero-padded region (0-> first derivative=1)\n",
    "    A=torch.transpose(A, 0,2)\n",
    "    A[0]=A[1]\n",
    "    A[N+1]=A[N]\n",
    "    A=torch.transpose(A, 0,2)\n",
    "    A=torch.transpose(A, 0,3)\n",
    "    A[0]=A[1]\n",
    "    A[N+1]=A[N]\n",
    "    A=torch.transpose(A, 0,3)\n",
    "    print(\"3. Fill in BC into the zero-padded region, x.size(): \", A.size())\n",
    "    print(A)\n",
    "    #######################################################################################################################\n",
    "    ## Laplace ############################################################################################################\n",
    "    ### 1. Tensor into numpy (Opencv takes numpy form) \n",
    "    A= A.numpy()\n",
    "    #print(\"A.shape: \", A.shape)\n",
    "    ### 2. Take laplacian with opencv\n",
    "    for k in range(len(A)):\n",
    "        temp=cv2.Laplacian(A[k][0], ddepth=-1, ksize=1)\n",
    "        #print(\"temp.shape: \", temp.shape)\n",
    "        temp=torch.tensor(temp)\n",
    "        #print(\"temp.size(): \", temp.size())\n",
    "        b=torch.transpose(temp[1:dim+1], 0,1)[1:dim+1] #(3, 3)\n",
    "        #print(\"b: \", b.size())\n",
    "        LAP_A[k]=b\n",
    "\n",
    "    print(\"LAP_A: \")\n",
    "    print(LAP_A)\n",
    "    ### 3. Reform y_pred: flattened y_pred\n",
    "    LAP_A=torch.flatten(LAP_A, start_dim=1)\n",
    "    #######################################################################################################################\n",
    "    return LAP_A"
   ]
  },
  {
   "cell_type": "markdown",
   "id": "e3a345f6",
   "metadata": {},
   "source": [
    "## Laplacian minimum test-2"
   ]
  },
  {
   "cell_type": "code",
   "execution_count": 24,
   "id": "e49e2386",
   "metadata": {},
   "outputs": [
    {
     "name": "stdout",
     "output_type": "stream",
     "text": [
      "0. An assumed y_pred, x.size():  torch.Size([2, 9])\n",
      "tensor([[0.3224, 0.4638, 0.7610, 0.3567, 0.1319, 0.0719, 0.2312, 0.5198, 0.7374],\n",
      "        [0.4302, 0.0191, 0.9067, 0.4216, 0.0828, 0.5747, 0.7391, 0.4752, 0.9706]])\n",
      "1. Unflattened y_pred, x.size():  torch.Size([2, 1, 3, 3])\n",
      "tensor([[[[0.3224, 0.4638, 0.7610],\n",
      "          [0.3567, 0.1319, 0.0719],\n",
      "          [0.2312, 0.5198, 0.7374]]],\n",
      "\n",
      "\n",
      "        [[[0.4302, 0.0191, 0.9067],\n",
      "          [0.4216, 0.0828, 0.5747],\n",
      "          [0.7391, 0.4752, 0.9706]]]])\n",
      "2. Zero-pad y-pred, x.size():  torch.Size([2, 1, 5, 5])\n",
      "tensor([[[[0.0000, 0.0000, 0.0000, 0.0000, 0.0000],\n",
      "          [0.0000, 0.3224, 0.4638, 0.7610, 0.0000],\n",
      "          [0.0000, 0.3567, 0.1319, 0.0719, 0.0000],\n",
      "          [0.0000, 0.2312, 0.5198, 0.7374, 0.0000],\n",
      "          [0.0000, 0.0000, 0.0000, 0.0000, 0.0000]]],\n",
      "\n",
      "\n",
      "        [[[0.0000, 0.0000, 0.0000, 0.0000, 0.0000],\n",
      "          [0.0000, 0.4302, 0.0191, 0.9067, 0.0000],\n",
      "          [0.0000, 0.4216, 0.0828, 0.5747, 0.0000],\n",
      "          [0.0000, 0.7391, 0.4752, 0.9706, 0.0000],\n",
      "          [0.0000, 0.0000, 0.0000, 0.0000, 0.0000]]]])\n",
      "3. Fill in BC into the zero-padded region, x.size():  torch.Size([2, 1, 5, 5])\n",
      "tensor([[[[0.3224, 0.3224, 0.4638, 0.7610, 0.7610],\n",
      "          [0.3224, 0.3224, 0.4638, 0.7610, 0.7610],\n",
      "          [0.3567, 0.3567, 0.1319, 0.0719, 0.0719],\n",
      "          [0.2312, 0.2312, 0.5198, 0.7374, 0.7374],\n",
      "          [0.2312, 0.2312, 0.5198, 0.7374, 0.7374]]],\n",
      "\n",
      "\n",
      "        [[[0.4302, 0.4302, 0.0191, 0.9067, 0.9067],\n",
      "          [0.4302, 0.4302, 0.0191, 0.9067, 0.9067],\n",
      "          [0.4216, 0.4216, 0.0828, 0.5747, 0.5747],\n",
      "          [0.7391, 0.7391, 0.4752, 0.9706, 0.9706],\n",
      "          [0.7391, 0.7391, 0.4752, 0.9706, 0.9706]]]])\n",
      "LAP_A: \n",
      "tensor([[[ 0.1757, -0.3848,  0.4142],\n",
      "         [-0.1761,  0.8847, -0.4589],\n",
      "         [-0.9863,  1.4144, -0.8830]],\n",
      "\n",
      "        [[-0.4196, -0.0128, -0.5814],\n",
      "         [ 1.3624,  1.1595,  0.3669],\n",
      "         [-1.2197,  0.2360, -0.8913]]])\n",
      "4. Laplacian, x.size():  torch.Size([2, 9])\n",
      "tensor([[ 0.1757, -0.3848,  0.4142, -0.1761,  0.8847, -0.4589, -0.9863,  1.4144,\n",
      "         -0.8830],\n",
      "        [-0.4196, -0.0128, -0.5814,  1.3624,  1.1595,  0.3669, -1.2197,  0.2360,\n",
      "         -0.8913]])\n"
     ]
    }
   ],
   "source": [
    "## 0. An assumed y_pred\n",
    "M=2\n",
    "N=3\n",
    "x=torch.rand(M, N*N)\n",
    "print(\"0. An assumed y_pred, x.size(): \", x.size())\n",
    "print(x)\n",
    "\n",
    "x=LAP(x, dim=N)\n",
    "print(\"4. Laplacian, x.size(): \", x.size())\n",
    "print(x)"
   ]
  },
  {
   "cell_type": "markdown",
   "id": "084f40b2",
   "metadata": {},
   "source": [
    "## Laplacian minimum test-1"
   ]
  },
  {
   "cell_type": "code",
   "execution_count": 12,
   "id": "30f9a4b4",
   "metadata": {
    "scrolled": true
   },
   "outputs": [
    {
     "name": "stdout",
     "output_type": "stream",
     "text": [
      "0. An assumed y_pred, x.size():  torch.Size([10, 6400])\n",
      "1. Unflattened y_pred, x.size():  torch.Size([10, 1, 80, 80])\n",
      "2. Zero-pad y-pred, x.size():  torch.Size([10, 1, 82, 82])\n",
      "3. Fill in BC into the zero-padded region, x.size():  torch.Size([10, 1, 82, 82])\n",
      "4. Laplacian, x.size():  torch.Size([10, 6400])\n"
     ]
    }
   ],
   "source": [
    "## 0. An assumed y_pred\n",
    "M=10\n",
    "N=80\n",
    "x=torch.rand(M, N*N)\n",
    "print(\"0. An assumed y_pred, x.size(): \", x.size())\n",
    "#print(x)\n",
    "\n",
    "## 1. Unflattened y_pred\n",
    "x=torch.nn.Sequential(torch.nn.Unflatten(1, (1,N,N)))(x)\n",
    "print(\"1. Unflattened y_pred, x.size(): \", x.size())\n",
    "#print(x)\n",
    "\n",
    "## 2. Zero-pad y-pred (e.g., 80*80->82*82)\n",
    "filters = torch.zeros(1, 1, 3, 3)\n",
    "filters[0][0][1][1]=1\n",
    "x=torch.nn.functional.conv2d(x, filters, padding=2)\n",
    "print(\"2. Zero-pad y-pred, x.size(): \", x.size())\n",
    "#print(x)\n",
    "\n",
    "## 3. Fill in BC into the zero-padded region (0-> first derivative=1)\n",
    "x=torch.transpose(x, 0,2)\n",
    "x[0]=x[1]\n",
    "x[N+1]=x[N]\n",
    "x=torch.transpose(x, 0,2)\n",
    "x=torch.transpose(x, 0,3)\n",
    "x[0]=x[1]\n",
    "x[N+1]=x[N]\n",
    "x=torch.transpose(x, 0,3)\n",
    "print(\"3. Fill in BC into the zero-padded region, x.size(): \", x.size())\n",
    "#print(x)\n",
    "\n",
    "## 4. Laplacian\n",
    "x=LAP(x, dim=N)\n",
    "print(\"4. Laplacian, x.size(): \", x.size())\n",
    "#print(x)"
   ]
  },
  {
   "cell_type": "markdown",
   "id": "b11d2afa",
   "metadata": {},
   "source": [
    "## Laplacian BC, minimum test"
   ]
  },
  {
   "cell_type": "code",
   "execution_count": 176,
   "id": "802dfe61",
   "metadata": {
    "scrolled": true
   },
   "outputs": [
    {
     "name": "stdout",
     "output_type": "stream",
     "text": [
      "torch.Size([2, 1, 5, 5])\n",
      "A.shape:  (2, 1, 5, 5)\n",
      "torch.Size([2, 1, 9])\n"
     ]
    }
   ],
   "source": [
    "x=torch.ones(2, 1, 3, 3)\n",
    "filters = torch.zeros(1, 1, 3, 3)\n",
    "filters[0][0][1][1]=1\n",
    "y=torch.nn.functional.conv2d(x, filters, padding=2)\n",
    "print(y.size())\n",
    "b=LAP(y, ks=1, dim=5)\n",
    "print(b.size())"
   ]
  },
  {
   "cell_type": "markdown",
   "id": "35fa2ff6",
   "metadata": {},
   "source": [
    "## Laplacian BC, minimum test"
   ]
  },
  {
   "cell_type": "code",
   "execution_count": 135,
   "id": "7cd4bb23",
   "metadata": {
    "scrolled": false
   },
   "outputs": [
    {
     "name": "stdout",
     "output_type": "stream",
     "text": [
      "torch.Size([1, 5, 5])\n",
      "A.shape:  (1, 5, 5)\n",
      "temp.shape:  (5, 5)\n",
      "temp.size():  torch.Size([5, 5])\n",
      "b:  torch.Size([3, 3])\n",
      "LAP_A: \n",
      "tensor([[[-2., -1., -2.],\n",
      "         [-1.,  0., -1.],\n",
      "         [-2., -1., -2.]]])\n",
      "torch.Size([1, 9])\n"
     ]
    }
   ],
   "source": [
    "print(y[1].size())\n",
    "b=LAP(y[1], ks=1, dim=5)\n",
    "print(b.size())"
   ]
  },
  {
   "cell_type": "code",
   "execution_count": 140,
   "id": "c2a9b4cf",
   "metadata": {},
   "outputs": [
    {
     "name": "stdout",
     "output_type": "stream",
     "text": [
      "torch.Size([1, 5, 5])\n",
      "torch.Size([3, 5])\n",
      "torch.Size([5, 3])\n",
      "torch.Size([3, 3])\n"
     ]
    }
   ],
   "source": [
    "temp=torch.ones(1, 5, 5)\n",
    "templ=torch.ones(1, 3, 3)\n",
    "print(temp.size())\n",
    "b=temp[0][1:4]\n",
    "print(b.size())\n",
    "b=torch.transpose(b, 0,1)\n",
    "print(b.size())\n",
    "templ[0]=b[1:4]\n",
    "print(templ[0].size())\n",
    "#b=torch.transpose(temp[1:4], 0,1)[1:4]"
   ]
  },
  {
   "cell_type": "code",
   "execution_count": 154,
   "id": "516d78d6",
   "metadata": {},
   "outputs": [
    {
     "name": "stdout",
     "output_type": "stream",
     "text": [
      "torch.Size([1, 5, 5])\n",
      "torch.Size([3, 3])\n",
      "torch.Size([1, 3, 3])\n"
     ]
    }
   ],
   "source": [
    "a=torch.ones(1, 5, 5) #(1, 5, 5)\n",
    "print(a.size())\n",
    "b=torch.transpose(a[0][1:4], 0,1)[1:4] #(3, 3)\n",
    "print(b.size())\n",
    "a=torch.ones(1, 3, 3) \n",
    "a[0]=b\n",
    "print(a.size())"
   ]
  },
  {
   "cell_type": "markdown",
   "id": "d0cd847c",
   "metadata": {},
   "source": [
    "## Laplacian correctness, minimum test"
   ]
  },
  {
   "cell_type": "code",
   "execution_count": 268,
   "id": "74ca2774",
   "metadata": {
    "scrolled": false
   },
   "outputs": [
    {
     "name": "stdout",
     "output_type": "stream",
     "text": [
      "tensor([[[[0.3992, 0.8774, 0.6634, 0.2342, 1.0000],\n",
      "          [0.1947, 0.4061, 1.1230, 0.8821, 0.9763],\n",
      "          [0.3167, 0.4991, 0.3160, 1.0000, 0.6228],\n",
      "          [0.2018, 0.3346, 0.3182, 0.3023, 0.6560],\n",
      "          [0.5153, 0.2915, 0.3006, 0.7925, 0.2103]]],\n",
      "\n",
      "\n",
      "        [[[0.7742, 0.4156, 0.8498, 0.4729, 0.9797],\n",
      "          [0.3220, 0.2945, 0.4374, 0.1736, 0.0972],\n",
      "          [0.2329, 0.8130, 0.5133, 0.0437, 0.6964],\n",
      "          [0.5253, 0.3982, 0.2505, 0.4501, 0.5961],\n",
      "          [0.9192, 0.5869, 0.4556, 0.7558, 0.8553]]]])\n",
      "torch.Size([2, 1, 5, 5])\n",
      "A.shape:  (2, 1, 5, 5)\n",
      "temp.shape:  (5, 5)\n",
      "temp.size():  torch.Size([5, 5])\n",
      "b:  torch.Size([3, 3])\n",
      "temp.shape:  (5, 5)\n",
      "temp.size():  torch.Size([5, 5])\n",
      "b:  torch.Size([3, 3])\n",
      "LAP_A: \n",
      "tensor([[[[ 1.0698, -0.6231, -0.0279],\n",
      "          [-2.2243,  1.6762, -0.0190],\n",
      "          [-0.1950, -1.8767,  1.5573]]],\n",
      "\n",
      "\n",
      "        [[[ 0.8102, -1.8132,  0.5829],\n",
      "          [ 0.0814, -0.5084,  0.8150],\n",
      "          [ 0.3569,  1.6585, -0.1542]]]])\n"
     ]
    },
    {
     "data": {
      "text/plain": [
       "tensor([[[ 1.0698, -0.6231, -0.0279, -2.2243,  1.6762, -0.0190, -0.1950,\n",
       "          -1.8767,  1.5573]],\n",
       "\n",
       "        [[ 0.8102, -1.8132,  0.5829,  0.0814, -0.5084,  0.8150,  0.3569,\n",
       "           1.6585, -0.1542]]])"
      ]
     },
     "execution_count": 268,
     "metadata": {},
     "output_type": "execute_result"
    }
   ],
   "source": [
    "d=5\n",
    "x=torch.empty(2,d*d)\n",
    "for i in range(d*d):\n",
    "    x[0][i]=i+1\n",
    "    x[1][i]=i+1\n",
    "x=torch.rand(2,d*d)\n",
    "\n",
    "x[0][4]=1\n",
    "x[0][7]=1.123\n",
    "x[0][13]=1\n",
    "\n",
    "x=torch.nn.Sequential(torch.nn.Unflatten(1, (1,d,d)))(x)\n",
    "print(x)\n",
    "print(x.size())\n",
    "LAP(x, ks=1, dim=3)"
   ]
  },
  {
   "cell_type": "code",
   "execution_count": 269,
   "id": "bca888ba",
   "metadata": {},
   "outputs": [
    {
     "name": "stdout",
     "output_type": "stream",
     "text": [
      "torch.Size([2, 9])\n",
      "torch.Size([2, 1, 3, 3])\n",
      "tensor([[[[0.8597, 0.8597, 0.1897, 0.3004, 0.3004],\n",
      "          [0.8597, 0.8597, 0.1897, 0.3004, 0.3004],\n",
      "          [0.3930, 0.3930, 0.6542, 0.2018, 0.2018],\n",
      "          [0.7750, 0.7750, 0.7426, 0.1945, 0.1945],\n",
      "          [0.7750, 0.7750, 0.7426, 0.1945, 0.1945]]],\n",
      "\n",
      "\n",
      "        [[[0.5845, 0.5845, 0.6952, 0.6445, 0.6445],\n",
      "          [0.5845, 0.5845, 0.6952, 0.6445, 0.6445],\n",
      "          [0.5378, 0.5378, 0.2068, 0.6407, 0.6407],\n",
      "          [0.3451, 0.3451, 0.3538, 0.1235, 0.1235],\n",
      "          [0.3451, 0.3451, 0.3538, 0.1235, 0.1235]]]])\n",
      "A.shape:  (2, 1, 5, 5)\n",
      "temp.shape:  (5, 5)\n",
      "temp.size():  torch.Size([5, 5])\n",
      "b:  torch.Size([3, 3])\n",
      "temp.shape:  (5, 5)\n",
      "temp.size():  torch.Size([5, 5])\n",
      "b:  torch.Size([3, 3])\n",
      "LAP_A: \n",
      "tensor([[[[-1.1367,  1.1100, -0.4145],\n",
      "          [ 1.2452, -1.0895, -0.6041],\n",
      "          [-0.2094,  0.5438,  0.5554]]],\n",
      "\n",
      "\n",
      "        [[[ 0.0641, -0.4770,  0.2014],\n",
      "          [-0.6499,  1.4002, -0.3859],\n",
      "          [ 0.0469, -0.9472,  0.7474]]]])\n",
      "tensor([[[-1.1367,  1.1100, -0.4145,  1.2452, -1.0895, -0.6041, -0.2094,\n",
      "           0.5438,  0.5554]],\n",
      "\n",
      "        [[ 0.0641, -0.4770,  0.2014, -0.6499,  1.4002, -0.3859,  0.0469,\n",
      "          -0.9472,  0.7474]]])\n"
     ]
    }
   ],
   "source": [
    "M=2\n",
    "N=3\n",
    "x=torch.rand(M, N*N)\n",
    "print(x.size())\n",
    "x=torch.nn.Sequential(torch.nn.Unflatten(1, (1,N,N)))(x)\n",
    "print(x.size())\n",
    "\n",
    "## Gernate larger\n",
    "filters = torch.zeros(1, 1, 3, 3)\n",
    "filters[0][0][1][1]=1\n",
    "x=torch.nn.functional.conv2d(x, filters, padding=2)\n",
    "#print(x)\n",
    "\n",
    "## Fill in BC\n",
    "x=torch.transpose(x, 0,2)\n",
    "x[0]=x[1]\n",
    "x[N+1]=x[N]\n",
    "x=torch.transpose(x, 0,2)\n",
    "x=torch.transpose(x, 0,3)\n",
    "x[0]=x[1]\n",
    "x[N+1]=x[N]\n",
    "x=torch.transpose(x, 0,3)\n",
    "print(x)\n",
    "\n",
    "#Laplacian\n",
    "x=LAP(x, ks=1, dim=N)\n",
    "print(x)"
   ]
  },
  {
   "cell_type": "markdown",
   "id": "e24403a5",
   "metadata": {},
   "source": [
    "## Copy array"
   ]
  },
  {
   "cell_type": "code",
   "execution_count": 93,
   "id": "18b6470e",
   "metadata": {},
   "outputs": [
    {
     "name": "stdout",
     "output_type": "stream",
     "text": [
      "torch.Size([1, 5, 5])\n",
      "torch.Size([3, 3])\n",
      "torch.Size([1, 3, 3])\n"
     ]
    }
   ],
   "source": [
    "a=torch.ones(1, 5, 5) #(1, 5, 5)\n",
    "print(a.size())\n",
    "b=torch.transpose(a[0][1:4], 0,1)[1:4] #(3, 3)\n",
    "print(b.size())\n",
    "a=torch.ones(1, 3, 3) \n",
    "a[0]=b\n",
    "print(a.size())"
   ]
  },
  {
   "cell_type": "markdown",
   "id": "60d98e80",
   "metadata": {},
   "source": [
    "## GPU-numpy test"
   ]
  },
  {
   "cell_type": "code",
   "execution_count": 4,
   "id": "d0bb8bcf",
   "metadata": {},
   "outputs": [],
   "source": [
    "import torch\n",
    "from torch.utils.data import TensorDataset, DataLoader\n",
    "import numpy as np\n",
    "import cv2\n",
    "device=torch.device('cuda:0')"
   ]
  },
  {
   "cell_type": "code",
   "execution_count": 19,
   "id": "28e9724f",
   "metadata": {},
   "outputs": [
    {
     "name": "stdout",
     "output_type": "stream",
     "text": [
      "torch.Size([10, 6400])\n"
     ]
    }
   ],
   "source": [
    "x=torch.randn(10, 6400)\n",
    "x=x.to(device)\n",
    "print(x.size())"
   ]
  },
  {
   "cell_type": "code",
   "execution_count": 31,
   "id": "b875f348",
   "metadata": {},
   "outputs": [
    {
     "name": "stdout",
     "output_type": "stream",
     "text": [
      "<class 'torch.Tensor'> tensor([[-0.6532,  1.0943,  1.0201,  0.0942,  1.5916]], device='cuda:0')\n",
      "<class 'numpy.ndarray'> [[-0.6531749   1.0942525   1.020143    0.09419392  1.5915849 ]]\n",
      "<class 'torch.Tensor'> tensor([[-0.6532,  1.0943,  1.0201,  0.0942,  1.5916]], requires_grad=True)\n",
      "<class 'torch.Tensor'> tensor([[-0.6532,  1.0943,  1.0201,  0.0942,  1.5916]], device='cuda:0',\n",
      "       grad_fn=<ToCopyBackward0>)\n"
     ]
    }
   ],
   "source": [
    "x=torch.randn(1, 5).to(device)\n",
    "LAP_A=torch.empty(1, 5).to(device)\n",
    "print(type(x), x)\n",
    "x= torch.Tensor.cpu(x).numpy()\n",
    "print(type(x), x)\n",
    "x=torch.tensor(x,requires_grad=True)\n",
    "print(type(x), x)\n",
    "LAP_A=x.to(device)\n",
    "print(type(LAP_A), LAP_A)"
   ]
  },
  {
   "cell_type": "markdown",
   "id": "38898875",
   "metadata": {},
   "source": [
    "## Unknown"
   ]
  },
  {
   "cell_type": "code",
   "execution_count": 5,
   "id": "ea674688",
   "metadata": {
    "scrolled": true
   },
   "outputs": [
    {
     "name": "stdout",
     "output_type": "stream",
     "text": [
      "torch.Size([100, 6400])\n",
      "tensor([[1., 1., 1.,  ..., 1., 1., 1.],\n",
      "        [1., 1., 1.,  ..., 1., 1., 1.],\n",
      "        [1., 1., 1.,  ..., 1., 1., 1.],\n",
      "        ...,\n",
      "        [1., 1., 1.,  ..., 1., 1., 1.],\n",
      "        [1., 1., 1.,  ..., 1., 1., 1.],\n",
      "        [1., 1., 1.,  ..., 1., 1., 1.]])\n"
     ]
    }
   ],
   "source": [
    "x=torch.ones(100,6400)\n",
    "x=x.to(device)\n",
    "print(x.size())\n",
    "print(x)"
   ]
  },
  {
   "cell_type": "code",
   "execution_count": 19,
   "id": "8e7bb284",
   "metadata": {},
   "outputs": [
    {
     "name": "stdout",
     "output_type": "stream",
     "text": [
      "100\n"
     ]
    }
   ],
   "source": [
    "xn= torch.nn.Sequential(torch.nn.Unflatten(1, (1,80,80)))(x).numpy()\n",
    "print(len(xn))"
   ]
  },
  {
   "cell_type": "code",
   "execution_count": 29,
   "id": "a2bda582",
   "metadata": {},
   "outputs": [],
   "source": [
    "yn=xn\n",
    "for i in range(len(xn)):\n",
    "    yn[i]=cv2.Laplacian(xn[i], ddepth=-1)"
   ]
  },
  {
   "cell_type": "code",
   "execution_count": 30,
   "id": "b85585fd",
   "metadata": {
    "scrolled": false
   },
   "outputs": [],
   "source": [
    "yn=torch.tensor(yn)\n",
    "yn=torch.flatten(yn, start_dim=1)"
   ]
  },
  {
   "cell_type": "code",
   "execution_count": 31,
   "id": "d0810278",
   "metadata": {},
   "outputs": [
    {
     "name": "stdout",
     "output_type": "stream",
     "text": [
      "torch.Size([100, 6400])\n"
     ]
    }
   ],
   "source": [
    "print(yn.size())"
   ]
  },
  {
   "cell_type": "code",
   "execution_count": 3,
   "id": "61f083a0",
   "metadata": {},
   "outputs": [
    {
     "ename": "TypeError",
     "evalue": "__init__() missing 1 required positional argument: 'unflattened_size'",
     "output_type": "error",
     "traceback": [
      "\u001b[1;31m---------------------------------------------------------------------------\u001b[0m",
      "\u001b[1;31mTypeError\u001b[0m                                 Traceback (most recent call last)",
      "Input \u001b[1;32mIn [3]\u001b[0m, in \u001b[0;36m<cell line: 1>\u001b[1;34m()\u001b[0m\n\u001b[0;32m      1\u001b[0m \u001b[38;5;28;01mfor\u001b[39;00m i \u001b[38;5;129;01min\u001b[39;00m x:\n\u001b[1;32m----> 2\u001b[0m     i_f\u001b[38;5;241m=\u001b[39m torch\u001b[38;5;241m.\u001b[39mnn\u001b[38;5;241m.\u001b[39mSequential(\u001b[43mtorch\u001b[49m\u001b[38;5;241;43m.\u001b[39;49m\u001b[43mnn\u001b[49m\u001b[38;5;241;43m.\u001b[39;49m\u001b[43mUnflatten\u001b[49m\u001b[43m(\u001b[49m\u001b[43m(\u001b[49m\u001b[38;5;241;43m1\u001b[39;49m\u001b[43m,\u001b[49m\u001b[38;5;241;43m80\u001b[39;49m\u001b[43m,\u001b[49m\u001b[38;5;241;43m80\u001b[39;49m\u001b[43m)\u001b[49m\u001b[43m)\u001b[49m)(i)\n\u001b[0;32m      3\u001b[0m     \u001b[38;5;28mprint\u001b[39m(i_f\u001b[38;5;241m.\u001b[39msize())\n",
      "\u001b[1;31mTypeError\u001b[0m: __init__() missing 1 required positional argument: 'unflattened_size'"
     ]
    }
   ],
   "source": [
    "for i in x:\n",
    "    i_f= torch.nn.Sequential(torch.nn.Unflatten((1,80,80)))(i)\n",
    "    print(i_f.size())"
   ]
  },
  {
   "cell_type": "code",
   "execution_count": 43,
   "id": "0082d521",
   "metadata": {
    "scrolled": true
   },
   "outputs": [
    {
     "name": "stdout",
     "output_type": "stream",
     "text": [
      "hello world\n"
     ]
    },
    {
     "ename": "NameError",
     "evalue": "name 'pppprint' is not defined",
     "output_type": "error",
     "traceback": [
      "\u001b[1;31m---------------------------------------------------------------------------\u001b[0m",
      "\u001b[1;31mNameError\u001b[0m                                 Traceback (most recent call last)",
      "Input \u001b[1;32mIn [43]\u001b[0m, in \u001b[0;36m<cell line: 2>\u001b[1;34m()\u001b[0m\n\u001b[0;32m      1\u001b[0m \u001b[38;5;28mprint\u001b[39m(\u001b[38;5;124m\"\u001b[39m\u001b[38;5;124mhello world\u001b[39m\u001b[38;5;124m\"\u001b[39m)\n\u001b[1;32m----> 2\u001b[0m \u001b[43mpppprint\u001b[49m(\u001b[38;5;124m\"\u001b[39m\u001b[38;5;124mhello world\u001b[39m\u001b[38;5;124m\"\u001b[39m)\n",
      "\u001b[1;31mNameError\u001b[0m: name 'pppprint' is not defined"
     ]
    }
   ],
   "source": [
    "print(\"hello world\")\n",
    "pppprint(\"hello world\") #syntax error"
   ]
  },
  {
   "cell_type": "code",
   "execution_count": null,
   "id": "411ff7f3",
   "metadata": {},
   "outputs": [],
   "source": [
    "def flaplacian(a):\n",
    "    a=5*a\n",
    "          \n",
    "    return a"
   ]
  },
  {
   "cell_type": "code",
   "execution_count": null,
   "id": "bfae6767",
   "metadata": {},
   "outputs": [],
   "source": [
    "def FLAPLACIAN(A):\n",
    "    size=A.size(dim=0)\n",
    "    LP=torch.rand(size,6400).to(device)\n",
    "    for i in range(size):\n",
    "        LP[i]=flaplacian(A[i]);\n",
    "    return LP"
   ]
  },
  {
   "cell_type": "code",
   "execution_count": 15,
   "id": "9eaf1e5c",
   "metadata": {
    "scrolled": true
   },
   "outputs": [
    {
     "name": "stdout",
     "output_type": "stream",
     "text": [
      "A:  [[[[ 1.  2.  3.  4.  5.]\n",
      "   [ 6.  7.  8.  9. 10.]\n",
      "   [11. 12.  0. 14. 15.]\n",
      "   [16. 17. 18. 19. 20.]\n",
      "   [21. 22. 23. 24. 25.]]]]\n",
      "len(A):  1\n",
      "len(B[i]):  [[[ 10.  10.  10.  10.  10.]\n",
      "  [  0.   0. -13.   0.   0.]\n",
      "  [  0.   0.  26.   0.   0.]\n",
      "  [  0.   0. -13.   0.   0.]\n",
      "  [-10. -10. -10. -10. -10.]]]\n",
      "len(B):  [[[[ 10.  10.  10.  10.  10.]\n",
      "   [  0.   0. -13.   0.   0.]\n",
      "   [  0.   0.  26.   0.   0.]\n",
      "   [  0.   0. -13.   0.   0.]\n",
      "   [-10. -10. -10. -10. -10.]]]]\n"
     ]
    },
    {
     "data": {
      "text/plain": [
       "tensor([[ 10.,  10.,  10.,  10.,  10.,   0.,   0., -13.,   0.,   0.,   0.,   0.,\n",
       "          26.,   0.,   0.,   0.,   0., -13.,   0.,   0., -10., -10., -10., -10.,\n",
       "         -10.]])"
      ]
     },
     "execution_count": 15,
     "metadata": {},
     "output_type": "execute_result"
    }
   ],
   "source": [
    "LAP(x)"
   ]
  },
  {
   "cell_type": "code",
   "execution_count": 14,
   "id": "c8ce4294",
   "metadata": {
    "scrolled": true
   },
   "outputs": [
    {
     "ename": "NameError",
     "evalue": "name 'xn' is not defined",
     "output_type": "error",
     "traceback": [
      "\u001b[1;31m---------------------------------------------------------------------------\u001b[0m",
      "\u001b[1;31mNameError\u001b[0m                                 Traceback (most recent call last)",
      "Input \u001b[1;32mIn [14]\u001b[0m, in \u001b[0;36m<cell line: 1>\u001b[1;34m()\u001b[0m\n\u001b[1;32m----> 1\u001b[0m \u001b[38;5;28mprint\u001b[39m(\u001b[43mxn\u001b[49m\u001b[38;5;241m.\u001b[39msize())\n",
      "\u001b[1;31mNameError\u001b[0m: name 'xn' is not defined"
     ]
    }
   ],
   "source": [
    "print(xn.size())"
   ]
  },
  {
   "cell_type": "code",
   "execution_count": 2,
   "id": "4df1bbe1",
   "metadata": {},
   "outputs": [],
   "source": [
    "x=torch.ones(100,25)\n",
    "x=x.to(device)"
   ]
  },
  {
   "cell_type": "markdown",
   "id": "106cd283",
   "metadata": {},
   "source": [
    "## preserved"
   ]
  },
  {
   "cell_type": "code",
   "execution_count": null,
   "id": "8c363d41",
   "metadata": {},
   "outputs": [],
   "source": [
    "    A_1=np.empty([1, dim+2, dim+2])\n",
    "    for k in range(len(A)):\n",
    "        for i in range(dim+2):\n",
    "            for j in range(dim+2):\n",
    "                if i==0:\n",
    "                    A_1[i][j]=A[k][i][j-1]\n",
    "                elif i==dim+1:\n",
    "                    A_1[i][j]=A[k][i-2][j-1]\n",
    "                elif j==0:\n",
    "                    A_1[i][j]=A[k][i-1][j]\n",
    "                elif j==dim+1:\n",
    "                    A_1[i][j]=A[k][i-1][j-2]\n",
    "                else:\n",
    "                    A_1[i][j]=A[k][i-1][j-1]\n",
    "    print(\"A_1: \")\n",
    "    print(A_1)\n",
    "    print(A_1.shape)"
   ]
  }
 ],
 "metadata": {
  "kernelspec": {
   "display_name": "Python 3 (ipykernel)",
   "language": "python",
   "name": "python3"
  },
  "language_info": {
   "codemirror_mode": {
    "name": "ipython",
    "version": 3
   },
   "file_extension": ".py",
   "mimetype": "text/x-python",
   "name": "python",
   "nbconvert_exporter": "python",
   "pygments_lexer": "ipython3",
   "version": "3.9.7"
  }
 },
 "nbformat": 4,
 "nbformat_minor": 5
}
