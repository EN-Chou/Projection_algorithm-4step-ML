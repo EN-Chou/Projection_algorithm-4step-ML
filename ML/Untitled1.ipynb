{
 "cells": [
  {
   "cell_type": "code",
   "execution_count": 1,
   "id": "39665a09",
   "metadata": {},
   "outputs": [],
   "source": [
    "import torch\n",
    "from torch.utils.data import TensorDataset, DataLoader\n",
    "import numpy as np\n",
    "import cv2"
   ]
  },
  {
   "cell_type": "code",
   "execution_count": 5,
   "id": "d403ed44",
   "metadata": {},
   "outputs": [],
   "source": [
    "device=torch.device('cuda:0') #先調1再調0"
   ]
  },
  {
   "cell_type": "code",
   "execution_count": 6,
   "id": "d2835008",
   "metadata": {},
   "outputs": [
    {
     "name": "stdout",
     "output_type": "stream",
     "text": [
      "True\n"
     ]
    }
   ],
   "source": [
    "print(torch.cuda.is_available())"
   ]
  },
  {
   "cell_type": "code",
   "execution_count": 55,
   "id": "c0035617",
   "metadata": {},
   "outputs": [
    {
     "name": "stdout",
     "output_type": "stream",
     "text": [
      "torch.Size([200, 80, 80])\n"
     ]
    }
   ],
   "source": [
    "x=torch.randn(200, 6400)\n",
    "x=x.to(device)\n",
    "x= torch.nn.Sequential(torch.nn.Unflatten(1, (80,80)))(x)\n",
    "print(x.size())"
   ]
  },
  {
   "cell_type": "code",
   "execution_count": 56,
   "id": "c682d38d",
   "metadata": {
    "scrolled": true
   },
   "outputs": [
    {
     "name": "stdout",
     "output_type": "stream",
     "text": [
      "torch.Size([200, 80, 80])\n",
      "torch.Size([200, 80, 80])\n",
      "torch.Size([200, 80, 80])\n",
      "torch.Size([200, 80, 80])\n"
     ]
    }
   ],
   "source": [
    "z=torch.concat([x[:, :, :1], x], axis=2)[:, :, :80]\n",
    "w=torch.concat([x, x[:, :, 79:]], axis=2)[:, :, 1:]\n",
    "m=torch.concat([x[:, :1, :], x], axis=1)[:, :80, :]\n",
    "n=torch.concat([x, x[:, 79:, :]], axis=1)[:, 1:, :]\n",
    "print(z.size())\n",
    "print(w.size())\n",
    "print(m.size())\n",
    "print(n.size())"
   ]
  },
  {
   "cell_type": "code",
   "execution_count": 57,
   "id": "5681e575",
   "metadata": {},
   "outputs": [
    {
     "name": "stdout",
     "output_type": "stream",
     "text": [
      "torch.Size([200, 80, 80])\n"
     ]
    }
   ],
   "source": [
    "ans=(z+w+m+n-4*x)*40 # h=1/80 /2h=>*40\n",
    "print(ans.size())"
   ]
  },
  {
   "cell_type": "code",
   "execution_count": 58,
   "id": "0853d550",
   "metadata": {},
   "outputs": [
    {
     "name": "stdout",
     "output_type": "stream",
     "text": [
      "torch.Size([5, 80])\n"
     ]
    }
   ],
   "source": [
    "print(x[1][:5].size())"
   ]
  },
  {
   "cell_type": "code",
   "execution_count": 63,
   "id": "7ff7f7a9",
   "metadata": {},
   "outputs": [
    {
     "name": "stdout",
     "output_type": "stream",
     "text": [
      "torch.Size([3, 5, 5])\n"
     ]
    }
   ],
   "source": [
    "x=torch.randn(3, 25)\n",
    "x=x.to(device)\n",
    "x= torch.nn.Sequential(torch.nn.Unflatten(1, (5,5)))(x)\n",
    "print(x.size())"
   ]
  },
  {
   "cell_type": "code",
   "execution_count": 64,
   "id": "1f62ed2d",
   "metadata": {},
   "outputs": [
    {
     "name": "stdout",
     "output_type": "stream",
     "text": [
      "torch.Size([3, 5, 5])\n",
      "torch.Size([3, 5, 5])\n",
      "torch.Size([3, 5, 5])\n",
      "torch.Size([3, 5, 5])\n"
     ]
    }
   ],
   "source": [
    "z=torch.concat([x[:, :, :1], x], axis=2)[:, :, :5]\n",
    "w=torch.concat([x, x[:, :, 4:]], axis=2)[:, :, 1:]\n",
    "m=torch.concat([x[:, :1, :], x], axis=1)[:, :5, :]\n",
    "n=torch.concat([x, x[:, 4:, :]], axis=1)[:, 1:, :]\n",
    "print(z.size())\n",
    "print(w.size())\n",
    "print(m.size())\n",
    "print(n.size())"
   ]
  },
  {
   "cell_type": "code",
   "execution_count": 70,
   "id": "3628e8c4",
   "metadata": {},
   "outputs": [
    {
     "name": "stdout",
     "output_type": "stream",
     "text": [
      "torch.Size([3, 5, 5])\n"
     ]
    }
   ],
   "source": [
    "ans=z+w+m+n-4*x\n",
    "ans*=40\n",
    "print(ans.size())"
   ]
  },
  {
   "cell_type": "code",
   "execution_count": 71,
   "id": "f47b14e4",
   "metadata": {},
   "outputs": [
    {
     "name": "stdout",
     "output_type": "stream",
     "text": [
      "tensor([[-0.8064, -1.2622,  0.7691, -0.1584,  2.2122],\n",
      "        [ 0.5470,  1.2463, -0.2132,  1.1685,  1.6731],\n",
      "        [ 0.2639, -1.7284,  0.7280,  0.6884,  0.3176],\n",
      "        [-0.4402,  0.2509,  1.1839, -0.4992, -0.2254],\n",
      "        [ 0.0937, -0.4350,  1.0150,  0.5548, -0.7034]], device='cuda:0')\n",
      "tensor([[  35.9059,  199.8252, -157.6450,  184.9955, -116.3831],\n",
      "        [ -37.4862, -305.6856,  190.5907, -107.3549,  -52.8455],\n",
      "        [ -96.5335,  376.1065, -119.2527,  -41.5542,   47.3343],\n",
      "        [  77.1614,  -96.9307, -129.6348,  167.9402,   -8.3530],\n",
      "        [ -42.4995,  106.5785,  -69.6473,  -74.0800,   69.4479]],\n",
      "       device='cuda:0')\n"
     ]
    }
   ],
   "source": [
    "print(x[1])\n",
    "print(ans[1])"
   ]
  },
  {
   "cell_type": "code",
   "execution_count": null,
   "id": "b584169b",
   "metadata": {},
   "outputs": [],
   "source": []
  }
 ],
 "metadata": {
  "kernelspec": {
   "display_name": "Python 3 (ipykernel)",
   "language": "python",
   "name": "python3"
  },
  "language_info": {
   "codemirror_mode": {
    "name": "ipython",
    "version": 3
   },
   "file_extension": ".py",
   "mimetype": "text/x-python",
   "name": "python",
   "nbconvert_exporter": "python",
   "pygments_lexer": "ipython3",
   "version": "3.9.7"
  }
 },
 "nbformat": 4,
 "nbformat_minor": 5
}
